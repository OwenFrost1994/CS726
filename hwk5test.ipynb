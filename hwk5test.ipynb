{
 "cells": [
  {
   "cell_type": "code",
   "execution_count": 5,
   "metadata": {},
   "outputs": [],
   "source": [
    "import math\n",
    "import numpy as np\n",
    "import globals \n",
    "from SteepDescent import SteepDescent\n",
    "from obja import obja\n",
    "from objb import objb\n",
    "from objc import objc\n",
    "from objd import objd\n",
    "from Geodesic import geodesic\n",
    "\n",
    "def objsimp(x,mode):\n",
    "    z = ()\n",
    "    if mode & 1:\n",
    "        globals.numf += 1\n",
    "        z += (x**2 + math.exp(x),)\n",
    "    if mode & 2:\n",
    "        globals.numg += 1\n",
    "        z = z + (2*x + math.exp(x),)\n",
    "    if mode & 4:\n",
    "        globals.numH += 1\n",
    "        z = z + (2 + math.exp(x),)\n",
    "    return z\n",
    "\n",
    "def probres(inform,x,params):\n",
    "    np.set_printoptions(formatter={'float': '{:8.4f}'.format})\n",
    "    if inform['status'] == 0:\n",
    "        print('CONVERGENCE FAILURE:')\n",
    "        print('{0} steps were taken without gradient size decreasing below {1:.4g}.\\n'.format(inform['iter'],params['toler']))\n",
    "    else:\n",
    "        print('Success: {0} steps taken\\n'.format(inform['iter']))\n",
    "    \n",
    "    print('Ending point: {0}'.format(x['p']))\n",
    "    print('Ending value: {0:.4g}'.format(x['f']))\n",
    "    print('No. function evaluations: {0}'.format(globals.numf))\n",
    "    print('Ending gradient: {0}'.format(x['g']))\n",
    "    print('No. gradient evaluations {0}'.format(globals.numg))\n",
    "    print('Norm of ending gradient: {0:8.4g}\\n'.format(np.linalg.norm(x['g'])))"
   ]
  },
  {
   "cell_type": "code",
   "execution_count": 9,
   "metadata": {},
   "outputs": [],
   "source": [
    "fun = geodesic(1,1,(-1,-1),(1,1),5)"
   ]
  },
  {
   "cell_type": "code",
   "execution_count": 15,
   "metadata": {},
   "outputs": [
    {
     "data": {
      "text/plain": [
       "(1150.8795735490785,)"
      ]
     },
     "execution_count": 15,
     "metadata": {},
     "output_type": "execute_result"
    }
   ],
   "source": [
    "fun(np.arange(1,11,dtype=float),1)"
   ]
  },
  {
   "cell_type": "code",
   "execution_count": null,
   "metadata": {},
   "outputs": [],
   "source": [
    "globals.initialize()\n",
    "#[a,c] = geodesic(np.ones((10,),dtype=float),5)\n",
    "[a,c] = geodesic(np.arange(1,11,dtype=float),5)"
   ]
  },
  {
   "cell_type": "code",
   "execution_count": 14,
   "metadata": {},
   "outputs": [
    {
     "name": "stdout",
     "output_type": "stream",
     "text": [
      "Problem simple\n"
     ]
    },
    {
     "data": {
      "text/plain": [
       "({'p': array([-0.35172651]),\n",
       "  'f': array([0.82718403]),\n",
       "  'g': array([1.94610318e-05])},\n",
       " 8,\n",
       " 1)"
      ]
     },
     "execution_count": 14,
     "metadata": {},
     "output_type": "execute_result"
    }
   ],
   "source": [
    "sdparams = {'maxit': 1000,'toler': 1.0e-4}\n",
    "globals.initialize()\n",
    "x_p = np.array([1.0])\n",
    "x = {'p': x_p, 'f': objsimp(x_p, 1)[0], 'g': objsimp(x_p, 2)[0]}\n",
    "print('Problem simple');\n",
    "x_n, Itera_s, Status = SteepDescent(objsimp,x,sdparams)\n",
    "x_n, Itera_s, Status"
   ]
  },
  {
   "cell_type": "code",
   "execution_count": null,
   "metadata": {},
   "outputs": [],
   "source": [
    "probres(inform,xnew,sdparams)"
   ]
  },
  {
   "cell_type": "code",
   "execution_count": 17,
   "metadata": {},
   "outputs": [
    {
     "name": "stdout",
     "output_type": "stream",
     "text": [
      "Problem obja\n"
     ]
    },
    {
     "data": {
      "text/plain": [
       "({'p': array([-0.49994395,  0.49998335]),\n",
       "  'f': -1.499999995472489,\n",
       "  'g': array([ 0.00011209, -0.00016651])},\n",
       " 20,\n",
       " 1)"
      ]
     },
     "execution_count": 17,
     "metadata": {},
     "output_type": "execute_result"
    }
   ],
   "source": [
    "globals.initialize()\n",
    "x_p = np.array([-1.2, 1.0])\n",
    "x = {'p': x_p, 'f': obja(x_p, 1)[0], 'g': obja(x_p, 2)[0]}\n",
    "print('Problem obja');\n",
    "x_n, Itera_s, Status = SteepDescent(obja,x,sdparams)\n",
    "x_n, Itera_s, Status"
   ]
  },
  {
   "cell_type": "code",
   "execution_count": 19,
   "metadata": {},
   "outputs": [
    {
     "name": "stdout",
     "output_type": "stream",
     "text": [
      "Problem objb\n"
     ]
    },
    {
     "data": {
      "text/plain": [
       "({'p': array([ 0.58370683, -0.03456573]),\n",
       "  'f': -0.3626583810179994,\n",
       "  'g': array([-0.005415  ,  0.00538771])},\n",
       " 175,\n",
       " 1)"
      ]
     },
     "execution_count": 19,
     "metadata": {},
     "output_type": "execute_result"
    }
   ],
   "source": [
    "globals.initialize()\n",
    "x_p = np.array([-1.2, 1.0])\n",
    "x = {'p': x_p, 'f': objb(x_p, 1)[0], 'g': objb(x_p, 2)[0]}\n",
    "print('Problem objb');\n",
    "x_n, Itera_s, Status = SteepDescent(objb,x,sdparams)\n",
    "x_n, Itera_s, Status"
   ]
  },
  {
   "cell_type": "code",
   "execution_count": 20,
   "metadata": {},
   "outputs": [
    {
     "name": "stdout",
     "output_type": "stream",
     "text": [
      "Problem objc\n"
     ]
    },
    {
     "data": {
      "text/plain": [
       "({'p': array([0.9145646 , 0.83645616]),\n",
       "  'f': 0.007299285076177769,\n",
       "  'g': array([-0.18102438,  0.00555104])},\n",
       " 1000,\n",
       " 0)"
      ]
     },
     "execution_count": 20,
     "metadata": {},
     "output_type": "execute_result"
    }
   ],
   "source": [
    "globals.initialize()\n",
    "x_p = np.array([-1.2, 1.0])\n",
    "x = {'p': x_p, 'f': objc(x_p, 1)[0], 'g': objc(x_p, 2)[0]}\n",
    "print('Problem objc');\n",
    "x_n, Itera_s, Status = SteepDescent(objc,x,sdparams)\n",
    "x_n, Itera_s, Status"
   ]
  },
  {
   "cell_type": "code",
   "execution_count": 21,
   "metadata": {},
   "outputs": [
    {
     "name": "stdout",
     "output_type": "stream",
     "text": [
      "Problem objd\n"
     ]
    },
    {
     "data": {
      "text/plain": [
       "({'p': array([-0.65007925,  0.57187857]),\n",
       "  'f': 0.009459680673135244,\n",
       "  'g': array([-0.0101713 ,  0.01330768])},\n",
       " 3,\n",
       " 1)"
      ]
     },
     "execution_count": 21,
     "metadata": {},
     "output_type": "execute_result"
    }
   ],
   "source": [
    "sdparams = {'maxit': 1000,'toler': 3.0e-3}\n",
    "globals.initialize()\n",
    "x_p = np.array([-1.2, 1.0])\n",
    "x = {'p': x_p, 'f': objd(x_p, 1)[0], 'g': objd(x_p, 2)[0]}\n",
    "print('Problem objd');\n",
    "x_n, Itera_s, Status = SteepDescent(objd,x,sdparams)\n",
    "x_n, Itera_s, Status"
   ]
  },
  {
   "cell_type": "code",
   "execution_count": null,
   "metadata": {},
   "outputs": [],
   "source": []
  }
 ],
 "metadata": {
  "kernelspec": {
   "display_name": "Python 3",
   "language": "python",
   "name": "python3"
  },
  "language_info": {
   "codemirror_mode": {
    "name": "ipython",
    "version": 3
   },
   "file_extension": ".py",
   "mimetype": "text/x-python",
   "name": "python",
   "nbconvert_exporter": "python",
   "pygments_lexer": "ipython3",
   "version": "3.6.9"
  },
  "varInspector": {
   "cols": {
    "lenName": 16,
    "lenType": 16,
    "lenVar": 40
   },
   "kernels_config": {
    "python": {
     "delete_cmd_postfix": "",
     "delete_cmd_prefix": "del ",
     "library": "var_list.py",
     "varRefreshCmd": "print(var_dic_list())"
    },
    "r": {
     "delete_cmd_postfix": ") ",
     "delete_cmd_prefix": "rm(",
     "library": "var_list.r",
     "varRefreshCmd": "cat(var_dic_list()) "
    }
   },
   "types_to_exclude": [
    "module",
    "function",
    "builtin_function_or_method",
    "instance",
    "_Feature"
   ],
   "window_display": false
  }
 },
 "nbformat": 4,
 "nbformat_minor": 4
}
