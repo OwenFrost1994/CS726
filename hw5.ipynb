{
 "cells": [
  {
   "cell_type": "code",
   "execution_count": 1,
   "metadata": {},
   "outputs": [],
   "source": [
    "from obja import obja\n",
    "from objb import objb\n",
    "from objc import objc\n",
    "from objd import objd"
   ]
  },
  {
   "cell_type": "code",
   "execution_count": 2,
   "metadata": {},
   "outputs": [
    {
     "data": {
      "text/plain": [
       "(array([[ 802., -400.],\n",
       "        [-400.,  200.]]),)"
      ]
     },
     "execution_count": 2,
     "metadata": {},
     "output_type": "execute_result"
    }
   ],
   "source": [
    "objc([1,1],4)"
   ]
  },
  {
   "cell_type": "code",
   "execution_count": 3,
   "metadata": {},
   "outputs": [
    {
     "data": {
      "text/plain": [
       "0.1765473328271171"
      ]
     },
     "execution_count": 3,
     "metadata": {},
     "output_type": "execute_result"
    }
   ],
   "source": [
    "objd([1,1],1)[0]"
   ]
  },
  {
   "cell_type": "code",
   "execution_count": 4,
   "metadata": {},
   "outputs": [
    {
     "data": {
      "text/plain": [
       "(array([0.20699076, 0.29263285]),)"
      ]
     },
     "execution_count": 4,
     "metadata": {},
     "output_type": "execute_result"
    }
   ],
   "source": [
    "objd([1,1],2)"
   ]
  },
  {
   "cell_type": "code",
   "execution_count": 5,
   "metadata": {},
   "outputs": [
    {
     "data": {
      "text/plain": [
       "(array([[-0.40699334, -0.38423725],\n",
       "        [-0.38423725,  0.133168  ]]),)"
      ]
     },
     "execution_count": 5,
     "metadata": {},
     "output_type": "execute_result"
    }
   ],
   "source": [
    "objd([1,1],4)"
   ]
  },
  {
   "cell_type": "code",
   "execution_count": 6,
   "metadata": {},
   "outputs": [],
   "source": [
    "import random\n",
    "import numpy as np\n",
    "def StepSize(fun, x, d, alfa, params):\n",
    "    # fun a pointer to a function (such as obja, objb, objc)\n",
    "    # x a dictionary that on input has x['p'] set to the starting point values x = {'p': [-1.2, 1.0]}\n",
    "    # and x['f'] and x['g'] set to the function and gradient values respectively.\n",
    "    # d a vector containing the search direction\n",
    "    # alfa the initial value of the step length\n",
    "    # params a dictionary containing parameter values for the routine\n",
    "    # params = {'ftol': 0.1,'gtol': 0.7,'xtol': 1e-6,: 100};\n",
    "    #     Note that ftol and gtol were referred to as c1 and c2 in lectures. Return values are a\n",
    "    #     dictionary inform that contains information about the run ('iter', 'status') and a new\n",
    "    #     dictionary x containing the final solution values and function and gradient at that point.\n",
    "    \n",
    "    alphaL = 0\n",
    "    alphaR = 1000\n",
    "    \n",
    "    for itera in range(params['maxit']):\n",
    "        fi_k_t = fun(x['p'] + alfa * d, 1)[0]\n",
    "        \n",
    "        if fi_k_t > (x['f'] + params['ftol'] * alfa * x['g'].dot(d)):\n",
    "            \n",
    "            alphaR = alfa\n",
    "            alfa = (alphaL + alphaR) / 2\n",
    "            if abs(alphaL - alphaR) < params['xtol']:\n",
    "                alpha_s = 1000\n",
    "                status = 'ERROR'\n",
    "                x_p = x['p'] + alpha_s * d\n",
    "                x_n = {'p': x_p, 'f': fun(x_p, 1)[0], 'g': fun(x_p, 2)[0]}\n",
    "                #print(alphaL, alphaR, abs(alphaL - alphaR), itera)\n",
    "                return x_n, alpha_s, itera, status\n",
    "            else:\n",
    "                continue\n",
    "        else:\n",
    "            fi_k_t_d = fun(x['p'] + alfa * d, 2)[0].dot(d)\n",
    "            if fi_k_t_d >= params['gtol'] * x['g'].dot(d):\n",
    "                alpha_s = alfa\n",
    "                status = 'OK'\n",
    "                x_p = x['p'] + alpha_s * d\n",
    "                x_n = {'p': x_p, 'f': fun(x_p, 1)[0], 'g': fun(x_p, 2)[0]}\n",
    "                return x_n, alpha_s, itera, status\n",
    "            else:\n",
    "                alpha_L = alfa\n",
    "            if alphaR > 500:\n",
    "                alfa = 2 * alpha_L\n",
    "                continue\n",
    "    if itera == (params['maxit']-1):\n",
    "        alpha_s = 1000\n",
    "        status = 'ERROR'\n",
    "        x_p = x['p'] + alpha_s * d\n",
    "        x_n = {'p': x_p, 'f': fun(x_p, 1)[0], 'g': fun(x_p, 2)[0]}\n",
    "        return x_n, alpha_s, itera, status"
   ]
  },
  {
   "cell_type": "code",
   "execution_count": 7,
   "metadata": {},
   "outputs": [
    {
     "data": {
      "text/plain": [
       "({'p': array([-1.06,  0.5 ]), 'f': -1.1864, 'g': array([-1.12,  0.  ])},\n",
       " 0.1,\n",
       " 0,\n",
       " 'OK')"
      ]
     },
     "execution_count": 7,
     "metadata": {},
     "output_type": "execute_result"
    }
   ],
   "source": [
    "StepSize(obja, {'p': np.array([-1.2,1.0]), 'f': obja(np.array([-1.2,1.0]), 1)[0], 'g': obja(np.array([-1.2,1.0]), 2)[0]}\\\n",
    "         , -obja(np.array([-1.2,1.0]), 2)[0], 0.1, {'ftol': 0.1,'gtol': 0.7,'xtol': 1e-6,'maxit': 100})"
   ]
  },
  {
   "cell_type": "code",
   "execution_count": null,
   "metadata": {},
   "outputs": [],
   "source": []
  },
  {
   "cell_type": "code",
   "execution_count": 8,
   "metadata": {},
   "outputs": [],
   "source": [
    "import numpy as np\n",
    "def SteepDescent(fun, x, sdparams, stepinfo):\n",
    "    # sdparams = {'maxit': 1000,'toler': 1.0e-4}\n",
    "    # The output inform is a dictionary containing two fields, status is 1 if the gradient tolerance\n",
    "    # was achieved and 0 if not, iter is the number of steps taken and x is the solution structure,\n",
    "    # with point, function and gradient evaluations at the solution point).\n",
    "    Status = 0\n",
    "    alpha = 1\n",
    "    d = -x['g']\n",
    "    params = {'ftol': 0.1,'gtol': 0.7,'xtol': 1e-6,'maxit': 100}\n",
    "    \n",
    "    for Itera in range(sdparams['maxit']):\n",
    "        if stepinfo == 1:\n",
    "            print('Iternation-xk-dk-alpha:\\n',Itera, x, d, alpha)\n",
    "        else:\n",
    "            None\n",
    "        x_n, alpha_s, itera, status = StepSize(fun, x, d, alpha, params)\n",
    "        if status == 'ERROR':\n",
    "            Status = 0\n",
    "            #print(alpha_s, x_n)\n",
    "            return x_n, Itera + 1, Status\n",
    "        else:\n",
    "            if np.linalg.norm(x['p']-x_n['p']) <= sdparams['toler']:\n",
    "                Status = 1\n",
    "                return x_n, Itera + 1, Status\n",
    "            else:\n",
    "                #print(alpha_s, x_n, x['g'].dot(d)*alpha/(x_n['g'].dot(-x_n['g'])))\n",
    "                alpha = max(10 * params['xtol'], x['g'].dot(d)*alpha_s/(x_n['g'].dot(-x_n['g'])))\n",
    "                x = x_n\n",
    "                d = -x_n['g']\n",
    "    \n",
    "    if Itera == sdparams['maxit']-1:\n",
    "        Status = 0\n",
    "        return x_n, Itera + 1, Status"
   ]
  },
  {
   "cell_type": "code",
   "execution_count": 9,
   "metadata": {},
   "outputs": [
    {
     "name": "stdout",
     "output_type": "stream",
     "text": [
      "Iternation-xk-dk-alpha:\n",
      " 0 {'p': array([1., 1.]), 'f': 2.0, 'g': array([3., 5.])} [-3. -5.] 1\n",
      "Iternation-xk-dk-alpha:\n",
      " 1 {'p': array([0.625, 0.375]), 'f': -0.15625, 'g': array([ 2.25, -1.25])} [-2.25  1.25] 0.6415094339622641\n",
      "Iternation-xk-dk-alpha:\n",
      " 2 {'p': array([-0.09669811,  0.7759434 ]), 'f': -0.9566237985048058, 'g': array([0.80660377, 2.75943396])} [-0.80660377 -2.75943396] 0.2571056301249644\n",
      "Iternation-xk-dk-alpha:\n",
      " 3 {'p': array([-0.2003893 ,  0.42121039]), 'f': -1.3791944164813599, 'g': array([ 0.5992214 , -0.78789608])} [-0.5992214   0.78789608] 1.084353501643548\n",
      "Iternation-xk-dk-alpha:\n",
      " 4 {'p': array([-0.28161028,  0.52800513]), 'f': -1.4483844935358834, 'g': array([0.43677945, 0.28005126])} [-0.43677945 -0.28005126] 0.49335080585413366\n",
      "Iternation-xk-dk-alpha:\n",
      " 5 {'p': array([-0.38935302,  0.45892337]), 'f': -1.4793207982129921, 'g': array([ 0.22129395, -0.41076631])} [-0.22129395  0.41076631] 0.3050356287289294\n",
      "Iternation-xk-dk-alpha:\n",
      " 6 {'p': array([-0.42310429,  0.52157255]), 'f': -1.4917601759047134, 'g': array([0.15379141, 0.21572549])} [-0.15379141 -0.21572549] 0.473051185184542\n",
      "Iternation-xk-dk-alpha:\n",
      " 7 {'p': array([-0.4594799 ,  0.47054795]), 'f': -1.49402100499832, 'g': array([ 0.0810402, -0.2945205])} [-0.0810402  0.2945205] 0.17791866498309253\n",
      "Iternation-xk-dk-alpha:\n",
      " 8 {'p': array([-0.47389846,  0.52294864]), 'f': -1.4966855083544355, 'g': array([0.05220307, 0.22948644])} [-0.05220307 -0.22948644] 0.2997256812630457\n",
      "Iternation-xk-dk-alpha:\n",
      " 9 {'p': array([-0.48172176,  0.48855715]), 'f': -1.4990112124650288, 'g': array([ 0.03655647, -0.11442846])} [-0.03655647  0.11442846] 0.5752348231656349\n",
      "Iternation-xk-dk-alpha:\n",
      " 10 {'p': array([-0.4869789 ,  0.50501296]), 'f': -1.4997048020546302, 'g': array([0.02604219, 0.05012963])} [-0.02604219 -0.05012963] 0.6502918316248247\n",
      "Iternation-xk-dk-alpha:\n",
      " 11 {'p': array([-0.49121266,  0.49686324]), 'f': -1.4998735863594568, 'g': array([ 0.01757468, -0.03136759])} [-0.01757468  0.03136759] 0.40130010072631417\n",
      "Iternation-xk-dk-alpha:\n",
      " 12 {'p': array([-0.49473902,  0.50315715]), 'f': -1.499922484123203, 'g': array([0.01052196, 0.0315715 ])} [-0.01052196 -0.0315715 ] 0.23422682569222564\n",
      "Iternation-xk-dk-alpha:\n",
      " 13 {'p': array([-0.49597128,  0.4994597 ]), 'f': -1.4999823098381777, 'g': array([ 0.00805743, -0.00540296])} [-0.00805743  0.00540296] 1.3781093859867353\n",
      "Iternation-xk-dk-alpha:\n",
      " 14 {'p': array([-0.49874729,  0.50132117]), 'f': -1.4999897032441623, 'g': array([0.00250542, 0.01321172])} [-0.00250542 -0.01321172] 0.17931505709652554\n",
      "Iternation-xk-dk-alpha:\n",
      " 15 {'p': array([-0.49919655,  0.49895211]), 'f': -1.4999938641203923, 'g': array([ 0.0016069 , -0.01047888])} [-0.0016069   0.01047888] 0.28850608258369753\n",
      "Iternation-xk-dk-alpha:\n",
      " 16 {'p': array([-0.49942835,  0.50046372]), 'f': -1.4999985980238784, 'g': array([0.0011433 , 0.00463722])} [-0.0011433  -0.00463722] 0.7107308508633172\n",
      "Iternation-xk-dk-alpha:\n",
      " 17 {'p': array([-0.49963149,  0.49963977]), 'f': -1.4999992153678812, 'g': array([ 0.00073701, -0.00360232])} [-0.00073701  0.00360232] 0.29978889692252086\n",
      "Iternation-xk-dk-alpha:\n",
      " 18 {'p': array([-0.49974197,  0.50017974]), 'f': -1.499999771894825, 'g': array([0.00051606, 0.00179736])} [-0.00051606 -0.00179736] 0.5795435367290546\n",
      "Iternation-xk-dk-alpha:\n",
      " 19 {'p': array([-0.49981674,  0.49991932]), 'f': -1.4999999338721604, 'g': array([ 0.00036652, -0.00080676])} [-0.00036652  0.00080676] 0.6452355864440726\n",
      "Iternation-xk-dk-alpha:\n",
      " 20 {'p': array([-0.49987586,  0.50004946]), 'f': -1.4999999723575153, 'g': array([0.00024828, 0.00049462])} [-0.00024828 -0.00049462] 0.41353507726935285\n",
      "Iternation-xk-dk-alpha:\n",
      " 21 {'p': array([-0.4999272 ,  0.49994719]), 'f': -1.4999999807558824, 'g': array([ 0.00014561, -0.00052809])} [-0.00014561  0.00052809] 0.2110443117558374\n"
     ]
    },
    {
     "data": {
      "text/plain": [
       "({'p': array([-0.49994256,  0.50000292]),\n",
       "  'f': -1.4999999966583522,\n",
       "  'g': array([1.14876053e-04, 2.91618970e-05])},\n",
       " 22,\n",
       " 1)"
      ]
     },
     "execution_count": 9,
     "metadata": {},
     "output_type": "execute_result"
    }
   ],
   "source": [
    "sdparams = {'maxit': 1000,'toler': 1.0e-4}\n",
    "x = {'p': np.array([1,1.0]), 'f': obja(np.array([1,1.0]), 1)[0], 'g': obja(np.array([1,1.0]), 2)[0]}\n",
    "SteepDescent(obja,x,sdparams,1)"
   ]
  },
  {
   "cell_type": "markdown",
   "metadata": {},
   "source": [
    "## Problem 2 testing"
   ]
  },
  {
   "cell_type": "code",
   "execution_count": 10,
   "metadata": {},
   "outputs": [],
   "source": [
    "import globals\n",
    "from numpy import array\n",
    "import math\n",
    "\n",
    "globals.initialize()\n",
    "\n",
    "def objt(x,mode):\n",
    "    z = ()\n",
    "    if mode & 1:\n",
    "        globals.numf += 1\n",
    "        z += (x[0]**2 + math.exp(x[0]),)\n",
    "    if mode & 2:\n",
    "        globals.numg += 1\n",
    "        z += (array([2*x[0] + math.exp(x[0])]),)\n",
    "    if mode & 4:\n",
    "        globals.numH += 1\n",
    "        z += (array([2 + math.exp(x[0])]),)\n",
    "    return z"
   ]
  },
  {
   "cell_type": "code",
   "execution_count": 11,
   "metadata": {},
   "outputs": [
    {
     "name": "stdout",
     "output_type": "stream",
     "text": [
      "Iternation-xk-dk-alpha:\n",
      " 0 {'p': array([1.]), 'f': 3.718281828459045, 'g': array([4.71828183])} [-4.71828183] 1\n",
      "Iternation-xk-dk-alpha:\n",
      " 1 {'p': array([-1.35914091]), 'f': 2.104145390046132, 'g': array([-2.46140046])} [2.46140046] 1.8372709356532182\n",
      "Iternation-xk-dk-alpha:\n",
      " 2 {'p': array([-0.22857603]), 'f': 0.8479128015032571, 'g': array([0.33851374])} [-0.33851374] 24.28427684230551\n",
      "Iternation-xk-dk-alpha:\n",
      " 3 {'p': array([-0.3570223]), 'f': 0.8272218157021405, 'g': array([-0.01428771])} [0.01428771] 212.99649644073634\n",
      "Iternation-xk-dk-alpha:\n",
      " 4 {'p': array([-0.35107849]), 'f': 0.8271846064830907, 'g': array([0.00177153])} [-0.00177153] 27.060335136856043\n",
      "Iternation-xk-dk-alpha:\n",
      " 5 {'p': array([-0.35182752]), 'f': 0.8271840380229156, 'g': array([-0.00025361])} [0.00025361] 20.63122704199265\n",
      "Iternation-xk-dk-alpha:\n",
      " 6 {'p': array([-0.35166401]), 'f': 0.8271840326939975, 'g': array([0.00018843])} [-0.00018843] 1.1679098379285413\n",
      "Iternation-xk-dk-alpha:\n",
      " 7 {'p': array([-0.35177405]), 'f': 0.8271840283267062, 'g': array([-0.00010904])} [0.00010904] 1.743647340468101\n"
     ]
    },
    {
     "data": {
      "text/plain": [
       "({'p': array([-0.35172651]),\n",
       "  'f': 0.8271840261975698,\n",
       "  'g': array([1.94610318e-05])},\n",
       " 8,\n",
       " 1)"
      ]
     },
     "execution_count": 11,
     "metadata": {},
     "output_type": "execute_result"
    }
   ],
   "source": [
    "sdparams = {'maxit': 1000,'toler': 1.0e-4}\n",
    "x_p = np.array([1.0])\n",
    "x = {'p': x_p, 'f': objt(x_p, 1)[0], 'g': objt(x_p, 2)[0]}\n",
    "x_n, Itera_s, Status = SteepDescent(objt,x,sdparams,1)\n",
    "x_n, Itera_s, Status"
   ]
  },
  {
   "cell_type": "code",
   "execution_count": 12,
   "metadata": {},
   "outputs": [
    {
     "data": {
      "text/plain": [
       "(0.0, 10.0)"
      ]
     },
     "execution_count": 12,
     "metadata": {},
     "output_type": "execute_result"
    },
    {
     "data": {
      "image/png": "[encoded data removed]",
      "text/plain": [
       "<Figure size 576x576 with 1 Axes>"
      ]
     },
     "metadata": {
      "needs_background": "light"
     },
     "output_type": "display_data"
    }
   ],
   "source": [
    "import matplotlib.pyplot as plt\n",
    "xi = np.arange(-2, 2, 0.1)\n",
    "yi = np.zeros(xi.shape[0])\n",
    "for i in range(xi.shape[0]):\n",
    "    yi[i] = xi[i] ** 2 + math.exp(xi[i])\n",
    "\n",
    "fig,ax = plt.subplots(1,1,figsize=(8,8))\n",
    "ax.plot(xi, yi, c = 'b', alpha = 1)\n",
    "ax.scatter(x_n['p'], x_n['f'], c = 'r', s = 10, alpha = 1)\n",
    "ax.set_xlabel('$x$', fontsize=20)\n",
    "ax.set_ylabel('$y$', fontsize=20)\n",
    "ax.set_xlim([-2,2])\n",
    "ax.set_ylim([0,10])"
   ]
  },
  {
   "cell_type": "markdown",
   "metadata": {},
   "source": [
    "## Problem 3"
   ]
  },
  {
   "cell_type": "markdown",
   "metadata": {},
   "source": [
    "##  (a)"
   ]
  },
  {
   "cell_type": "markdown",
   "metadata": {},
   "source": [
    "## $$f(x)=x_{1}^{2}+5x_{2}^{2}+x_{1}-5x_{2}$$"
   ]
  },
  {
   "cell_type": "code",
   "execution_count": 13,
   "metadata": {},
   "outputs": [
    {
     "data": {
      "text/plain": [
       "({'p': array([-0.49994395,  0.49998335]),\n",
       "  'f': -1.499999995472489,\n",
       "  'g': array([ 0.00011209, -0.00016651])},\n",
       " 20,\n",
       " 1)"
      ]
     },
     "execution_count": 13,
     "metadata": {},
     "output_type": "execute_result"
    }
   ],
   "source": [
    "sdparams = {'maxit': 1000,'toler': 1.0e-4}\n",
    "x_p = np.array([-1.2, 1])\n",
    "x = {'p': x_p, 'f': obja(x_p, 1)[0], 'g': obja(x_p, 2)[0]}\n",
    "x_n, Itera_s, Status = SteepDescent(obja,x,sdparams,0)\n",
    "x_n, Itera_s, Status"
   ]
  },
  {
   "cell_type": "code",
   "execution_count": null,
   "metadata": {},
   "outputs": [],
   "source": []
  },
  {
   "cell_type": "markdown",
   "metadata": {},
   "source": [
    "## (b)"
   ]
  },
  {
   "cell_type": "markdown",
   "metadata": {},
   "source": [
    "## $$f(x)=x_{1}^{2}+5x_{1}x_{2}+100x_{2}^{2}-x_{1}+4x_{2}$$"
   ]
  },
  {
   "cell_type": "code",
   "execution_count": 14,
   "metadata": {},
   "outputs": [
    {
     "data": {
      "text/plain": [
       "({'p': array([ 0.58370683, -0.03456573]),\n",
       "  'f': -0.3626583810179994,\n",
       "  'g': array([-0.005415  ,  0.00538771])},\n",
       " 175,\n",
       " 1)"
      ]
     },
     "execution_count": 14,
     "metadata": {},
     "output_type": "execute_result"
    }
   ],
   "source": [
    "sdparams = {'maxit': 1000,'toler': 1.0e-4}\n",
    "x_p = np.array([-1.2, 1])\n",
    "x = {'p': x_p, 'f': objb(x_p, 1)[0], 'g': objb(x_p, 2)[0]}\n",
    "x_n, Itera_s, Status = SteepDescent(objb,x,sdparams,0)\n",
    "x_n, Itera_s, Status"
   ]
  },
  {
   "cell_type": "markdown",
   "metadata": {},
   "source": [
    "## (c)"
   ]
  },
  {
   "cell_type": "markdown",
   "metadata": {},
   "source": [
    "## $$f(x)=100(x_{2}-x_{1}^{2})^{2}+(1-x_{1})^{2}$$"
   ]
  },
  {
   "cell_type": "code",
   "execution_count": 15,
   "metadata": {},
   "outputs": [
    {
     "data": {
      "text/plain": [
       "({'p': array([0.96347374, 0.92817193]),\n",
       "  'f': 0.001335371577617823,\n",
       "  'g': array([-0.030772  , -0.02194171])},\n",
       " 1231,\n",
       " 1)"
      ]
     },
     "execution_count": 15,
     "metadata": {},
     "output_type": "execute_result"
    }
   ],
   "source": [
    "sdparams = {'maxit': 2000,'toler': 1.0e-4}\n",
    "x_p = np.array([-1.2, 1])\n",
    "x = {'p': x_p, 'f': objc(x_p, 1)[0], 'g': objc(x_p, 2)[0]}\n",
    "x_n, Itera_s, Status = SteepDescent(objc,x,sdparams,0)\n",
    "x_n, Itera_s, Status"
   ]
  },
  {
   "cell_type": "markdown",
   "metadata": {},
   "source": [
    "## (d)"
   ]
  },
  {
   "cell_type": "code",
   "execution_count": 16,
   "metadata": {},
   "outputs": [
    {
     "data": {
      "text/plain": [
       "({'p': array([ 1.50486039, -2.24730506]),\n",
       "  'f': 2.347862422855277,\n",
       "  'g': array([ 1.68798151, -1.62933146])},\n",
       " 2298,\n",
       " 0)"
      ]
     },
     "execution_count": 16,
     "metadata": {},
     "output_type": "execute_result"
    }
   ],
   "source": [
    "sdparams = {'maxit': 3000,'toler': 1.0e-4}\n",
    "x_p = np.array([-1.2, 1])\n",
    "x = {'p': x_p, 'f': objd(x_p, 1)[0], 'g': objd(x_p, 2)[0]}\n",
    "x_n, Itera_s, Status = SteepDescent(objd,x,sdparams,0)\n",
    "x_n, Itera_s, Status"
   ]
  },
  {
   "cell_type": "code",
   "execution_count": 17,
   "metadata": {},
   "outputs": [
    {
     "data": {
      "text/plain": [
       "({'p': array([-0.49994395,  0.49998335]),\n",
       "  'f': -1.499999995472489,\n",
       "  'g': array([ 0.00011209, -0.00016651])},\n",
       " 20,\n",
       " 1)"
      ]
     },
     "execution_count": 17,
     "metadata": {},
     "output_type": "execute_result"
    }
   ],
   "source": [
    "import SteepDescent as SD\n",
    "\n",
    "sdparams = {'maxit': 1000,'toler': 1.0e-4}\n",
    "x_p = np.array([-1.2, 1])\n",
    "x = {'p': x_p, 'f': obja(x_p, 1)[0], 'g': obja(x_p, 2)[0]}\n",
    "x_n, Itera_s, Status = SD.SteepDescent(obja,x,sdparams)\n",
    "x_n, Itera_s, Status"
   ]
  },
  {
   "cell_type": "markdown",
   "metadata": {},
   "source": [
    "## Problem 5"
   ]
  },
  {
   "cell_type": "code",
   "execution_count": 18,
   "metadata": {},
   "outputs": [
    {
     "data": {
      "text/plain": [
       "array([0.51416421, 0.97699315, 0.70428362, 0.81582025, 0.49906612,\n",
       "       0.80902157, 0.2908174 , 0.84830223, 0.71473359, 0.85155162,\n",
       "       0.16568302, 0.62812765, 0.8792907 , 0.91261697, 0.17870675,\n",
       "       0.31732679, 0.71772414, 0.73124785, 0.6090679 , 0.72636356])"
      ]
     },
     "execution_count": 18,
     "metadata": {},
     "output_type": "execute_result"
    }
   ],
   "source": [
    "alphaF = 1\n",
    "betaF = 2\n",
    "N = 10\n",
    "\n",
    "Z = np.random.rand(2*N)\n",
    "Z"
   ]
  },
  {
   "cell_type": "code",
   "execution_count": 19,
   "metadata": {},
   "outputs": [],
   "source": [
    "import numpy as np\n",
    "import globals\n",
    "import math\n",
    "class geodesic():\n",
    "    def __init__(self, a = 1, b = 1, x0 = (-1,-1), x1 = (1,1), n = 5):\n",
    "        self.alpha = a\n",
    "        self.beta = b\n",
    "        self.X0 = x0\n",
    "        self.X1 = x1\n",
    "        self.N = n\n",
    "        \n",
    "    def __call__ (self, Z, mode):\n",
    "        z = ()\n",
    "        globals.initialize()\n",
    "        if mode & 1:\n",
    "            globals.numf += 1    \n",
    "            z = (self.value(Z),)\n",
    "            \n",
    "        if mode & 2:\n",
    "            globals.numg += 1\n",
    "            z = (self.gradient(Z),)\n",
    "            \n",
    "        #if mode & 4:\n",
    "        #    globals.numH += 1\n",
    "        return z\n",
    "    \n",
    "    def rho(self, x, y):\n",
    "        value = 1 + self.alpha * math.exp(-self.beta*(x**2+y**2))\n",
    "        return value\n",
    "    def theta(self, x, y):\n",
    "        value = self.alpha * math.exp(-self.beta*(x**2+y**2))\n",
    "        return value\n",
    "    \n",
    "    def value(self, Z):\n",
    "        deltat = 1/(self.N + 1)\n",
    "        F = 0\n",
    "        Xi = self.X0[0]\n",
    "        Yi = self.X0[1]\n",
    "        Xi1 = Z[0]\n",
    "        Yi1 = Z[1]\n",
    "        F +=  deltat * self.rho(Xi, Yi) * (((Xi1 - Xi)/deltat)**2 + ((Yi1 - Yi)/deltat)**2)\n",
    "        for i in range(self.N):\n",
    "            if i == self.N -1:\n",
    "                Xi = Z[2*i]\n",
    "                Yi = Z[2*i + 1]\n",
    "                Xi1 = self.X1[0]\n",
    "                Yi1 = self.X1[1]\n",
    "            else:\n",
    "                Xi = Z[2*i]\n",
    "                Yi = Z[2*i + 1]\n",
    "                Xi1 = Z[2*(i+1)]\n",
    "                Yi1 = Z[2*(i+1) + 1]\n",
    "            F += deltat * self.rho(Xi, Yi) * (((Xi1 - Xi)/deltat)**2 + ((Yi1 - Yi)/deltat)**2)\n",
    "        return F\n",
    "    \n",
    "    def gradient(self, Z):\n",
    "        deltat = 1/(self.N + 1)\n",
    "        deltaF = []\n",
    "        \n",
    "        for i in range(self.N):\n",
    "            if i == 0:\n",
    "                Xi_1 = self.X0[0]\n",
    "                Yi_1 = self.X0[1]\n",
    "                Xi = Z[2*i]\n",
    "                Yi = Z[2*i + 1]\n",
    "                Xi1 = Z[2*(i+1)]\n",
    "                Yi1 = Z[2*(i+1) + 1]\n",
    "            else:\n",
    "                if i == self.N-1:\n",
    "                    Xi_1 = Z[2*(i-1)]\n",
    "                    Yi_1 = Z[2*(i-1) + 1]\n",
    "                    Xi = Z[2*i]\n",
    "                    Yi = Z[2*i + 1]\n",
    "                    Xi1 = self.X1[0]\n",
    "                    Yi1 = self.X1[1]\n",
    "                else:\n",
    "                    Xi_1 = Z[2*(i-1)]\n",
    "                    Yi_1 = Z[2*(i-1) + 1]\n",
    "                    Xi = Z[2*i]\n",
    "                    Yi = Z[2*i + 1]\n",
    "                    Xi1 = Z[2*(i+1)]\n",
    "                    Yi1 = Z[2*(i+1) + 1]\n",
    "                \n",
    "            parF_Xi = -2*self.beta*Xi*self.theta(Xi, Yi)*((Xi1 - Xi)**2/deltat + (Yi1 - Yi)**2/deltat) \\\n",
    "            + 2*self.rho(Xi,Yi)*(Xi - Xi1)/deltat + 2*self.rho(Xi_1,Yi_1)*(Xi - Xi_1)/deltat\n",
    "            parF_Yi = -2*self.beta*Yi*self.theta(Xi, Yi)*((Xi1 - Xi)**2/deltat + (Yi1 - Yi)**2/deltat) \\\n",
    "            + 2*self.rho(Xi,Yi)*(Yi - Yi1)/deltat + 2*self.rho(Xi_1,Yi_1)*(Yi - Yi_1)/deltat\n",
    "            deltaF.append(parF_Xi)\n",
    "            deltaF.append(parF_Yi)\n",
    "            \n",
    "        deltaF_np = np.array(deltaF)\n",
    "        return deltaF_np"
   ]
  },
  {
   "cell_type": "code",
   "execution_count": 20,
   "metadata": {},
   "outputs": [],
   "source": [
    "fun = geodesic(1,1,(-1,-1),(1,1),N)"
   ]
  },
  {
   "cell_type": "code",
   "execution_count": 21,
   "metadata": {},
   "outputs": [
    {
     "data": {
      "text/plain": [
       "1.0"
      ]
     },
     "execution_count": 21,
     "metadata": {},
     "output_type": "execute_result"
    }
   ],
   "source": [
    "fun.theta(0, 0)"
   ]
  },
  {
   "cell_type": "code",
   "execution_count": 22,
   "metadata": {},
   "outputs": [
    {
     "data": {
      "text/plain": [
       "True"
      ]
     },
     "execution_count": 22,
     "metadata": {},
     "output_type": "execute_result"
    }
   ],
   "source": [
    "callable(fun)"
   ]
  },
  {
   "cell_type": "code",
   "execution_count": 23,
   "metadata": {},
   "outputs": [
    {
     "data": {
      "text/plain": [
       "(122.6247215390165,)"
      ]
     },
     "execution_count": 23,
     "metadata": {},
     "output_type": "execute_result"
    }
   ],
   "source": [
    "fun(Z,1)"
   ]
  },
  {
   "cell_type": "code",
   "execution_count": 24,
   "metadata": {},
   "outputs": [
    {
     "data": {
      "text/plain": [
       "122.6247215390165"
      ]
     },
     "execution_count": 24,
     "metadata": {},
     "output_type": "execute_result"
    }
   ],
   "source": [
    "fun(Z,1)[0]"
   ]
  },
  {
   "cell_type": "code",
   "execution_count": 25,
   "metadata": {},
   "outputs": [
    {
     "data": {
      "text/plain": [
       "(array([ 32.19331016,  53.57926081,  11.14226365,  -4.63425929,\n",
       "          0.30986211,  -1.73447517, -20.45112305,  -0.3899392 ,\n",
       "         27.48252248,   4.53434688, -42.99332383, -22.05416949,\n",
       "         41.21887315,  22.68201451, -42.3400758 , -35.62992552,\n",
       "         25.40548887,  17.15986418, -16.57156322, -10.09763651]),)"
      ]
     },
     "execution_count": 25,
     "metadata": {},
     "output_type": "execute_result"
    }
   ],
   "source": [
    "fun(Z,2)"
   ]
  },
  {
   "cell_type": "code",
   "execution_count": 26,
   "metadata": {},
   "outputs": [
    {
     "data": {
      "text/plain": [
       "array([ 32.19331016,  53.57926081,  11.14226365,  -4.63425929,\n",
       "         0.30986211,  -1.73447517, -20.45112305,  -0.3899392 ,\n",
       "        27.48252248,   4.53434688, -42.99332383, -22.05416949,\n",
       "        41.21887315,  22.68201451, -42.3400758 , -35.62992552,\n",
       "        25.40548887,  17.15986418, -16.57156322, -10.09763651])"
      ]
     },
     "execution_count": 26,
     "metadata": {},
     "output_type": "execute_result"
    }
   ],
   "source": [
    "fun(Z,2)[0]"
   ]
  },
  {
   "cell_type": "code",
   "execution_count": 27,
   "metadata": {},
   "outputs": [],
   "source": [
    "import numpy as np\n",
    "class geodesic_gradient_test():\n",
    "    def __init__(self, a, b, x0, x1, n, h):\n",
    "        self.alpha = a\n",
    "        self.beta = b\n",
    "        self.X0 = x0\n",
    "        self.X1 = x1\n",
    "        self.N = n\n",
    "        self.H = h\n",
    "    \n",
    "    def __call__ (self, Z):\n",
    "        z = ()\n",
    "        vk = []\n",
    "        for i in range(2*N):\n",
    "            ek = np.zeros(2*N)\n",
    "            ek[i] = 1\n",
    "            vk.append((self.value(Z + self.H*ek)-self.value(Z))/self.H)\n",
    "        return np.array(vk)\n",
    "    \n",
    "    def rho(self, x, y):\n",
    "        value = 1 + self.alpha * math.exp(-self.beta*(x**2+y**2))\n",
    "        return value\n",
    "    def theta(self, x, y):\n",
    "        value = self.alpha * math.exp(-self.beta*(x**2+y**2))\n",
    "        return value\n",
    "    \n",
    "    def value(self, Z):\n",
    "        deltat = 1/(self.N + 1)\n",
    "        F = 0\n",
    "        Xi = self.X0[0]\n",
    "        Yi = self.X0[1]\n",
    "        Xi1 = Z[0]\n",
    "        Yi1 = Z[1]\n",
    "        F +=  deltat * self.rho(Xi, Yi) * (((Xi1 - Xi)/deltat)**2 + ((Yi1 - Yi)/deltat)**2)\n",
    "        for i in range(self.N):\n",
    "            if i == self.N -1:\n",
    "                Xi = Z[2*i]\n",
    "                Yi = Z[2*i + 1]\n",
    "                Xi1 = self.X1[0]\n",
    "                Yi1 = self.X1[1]\n",
    "            else:\n",
    "                Xi = Z[2*i]\n",
    "                Yi = Z[2*i + 1]\n",
    "                Xi1 = Z[2*(i+1)]\n",
    "                Yi1 = Z[2*(i+1) + 1]\n",
    "            F += deltat * self.rho(Xi, Yi) * (((Xi1 - Xi)/deltat)**2 + ((Yi1 - Yi)/deltat)**2)\n",
    "        return F"
   ]
  },
  {
   "cell_type": "code",
   "execution_count": 28,
   "metadata": {},
   "outputs": [],
   "source": [
    "vk = geodesic_gradient_test(1,1,(-1,-1),(1,1),N, 1E-6)"
   ]
  },
  {
   "cell_type": "code",
   "execution_count": 29,
   "metadata": {},
   "outputs": [
    {
     "name": "stdout",
     "output_type": "stream",
     "text": [
      "[1. 0. 0. 0. 0. 0. 0. 0. 0. 0. 0. 0. 0. 0. 0. 0. 0. 0. 0. 0.]\n",
      "[0. 1. 0. 0. 0. 0. 0. 0. 0. 0. 0. 0. 0. 0. 0. 0. 0. 0. 0. 0.]\n",
      "[0. 0. 1. 0. 0. 0. 0. 0. 0. 0. 0. 0. 0. 0. 0. 0. 0. 0. 0. 0.]\n",
      "[0. 0. 0. 1. 0. 0. 0. 0. 0. 0. 0. 0. 0. 0. 0. 0. 0. 0. 0. 0.]\n",
      "[0. 0. 0. 0. 1. 0. 0. 0. 0. 0. 0. 0. 0. 0. 0. 0. 0. 0. 0. 0.]\n",
      "[0. 0. 0. 0. 0. 1. 0. 0. 0. 0. 0. 0. 0. 0. 0. 0. 0. 0. 0. 0.]\n",
      "[0. 0. 0. 0. 0. 0. 1. 0. 0. 0. 0. 0. 0. 0. 0. 0. 0. 0. 0. 0.]\n",
      "[0. 0. 0. 0. 0. 0. 0. 1. 0. 0. 0. 0. 0. 0. 0. 0. 0. 0. 0. 0.]\n",
      "[0. 0. 0. 0. 0. 0. 0. 0. 1. 0. 0. 0. 0. 0. 0. 0. 0. 0. 0. 0.]\n",
      "[0. 0. 0. 0. 0. 0. 0. 0. 0. 1. 0. 0. 0. 0. 0. 0. 0. 0. 0. 0.]\n",
      "[0. 0. 0. 0. 0. 0. 0. 0. 0. 0. 1. 0. 0. 0. 0. 0. 0. 0. 0. 0.]\n",
      "[0. 0. 0. 0. 0. 0. 0. 0. 0. 0. 0. 1. 0. 0. 0. 0. 0. 0. 0. 0.]\n",
      "[0. 0. 0. 0. 0. 0. 0. 0. 0. 0. 0. 0. 1. 0. 0. 0. 0. 0. 0. 0.]\n",
      "[0. 0. 0. 0. 0. 0. 0. 0. 0. 0. 0. 0. 0. 1. 0. 0. 0. 0. 0. 0.]\n",
      "[0. 0. 0. 0. 0. 0. 0. 0. 0. 0. 0. 0. 0. 0. 1. 0. 0. 0. 0. 0.]\n",
      "[0. 0. 0. 0. 0. 0. 0. 0. 0. 0. 0. 0. 0. 0. 0. 1. 0. 0. 0. 0.]\n",
      "[0. 0. 0. 0. 0. 0. 0. 0. 0. 0. 0. 0. 0. 0. 0. 0. 1. 0. 0. 0.]\n",
      "[0. 0. 0. 0. 0. 0. 0. 0. 0. 0. 0. 0. 0. 0. 0. 0. 0. 1. 0. 0.]\n",
      "[0. 0. 0. 0. 0. 0. 0. 0. 0. 0. 0. 0. 0. 0. 0. 0. 0. 0. 1. 0.]\n",
      "[0. 0. 0. 0. 0. 0. 0. 0. 0. 0. 0. 0. 0. 0. 0. 0. 0. 0. 0. 1.]\n"
     ]
    }
   ],
   "source": [
    "for i in range(2*N):\n",
    "    ek = np.zeros(2*N)\n",
    "    ek[i] = 1\n",
    "    print(ek)"
   ]
  },
  {
   "cell_type": "code",
   "execution_count": 30,
   "metadata": {},
   "outputs": [
    {
     "data": {
      "text/plain": [
       "True"
      ]
     },
     "execution_count": 30,
     "metadata": {},
     "output_type": "execute_result"
    }
   ],
   "source": [
    "callable(vk)"
   ]
  },
  {
   "cell_type": "code",
   "execution_count": 31,
   "metadata": {},
   "outputs": [
    {
     "data": {
      "text/plain": [
       "array([ 32.19333809,  53.57928569,  11.14229036,  -4.63423061,\n",
       "         0.30989008,  -1.73444465, -20.45108998,  -0.38990737,\n",
       "        27.48254761,   4.53437508, -42.99329203, -22.05413281,\n",
       "        41.21890015,  22.68204237, -42.34004241, -35.62989018,\n",
       "        25.40552316,  17.15989963, -16.57152887, -10.09760255])"
      ]
     },
     "execution_count": 31,
     "metadata": {},
     "output_type": "execute_result"
    }
   ],
   "source": [
    "vk(Z)"
   ]
  },
  {
   "cell_type": "code",
   "execution_count": 32,
   "metadata": {},
   "outputs": [
    {
     "data": {
      "text/plain": [
       "array([-2.79270732e-05, -2.48843381e-05, -2.67124129e-05, -2.86839818e-05,\n",
       "       -2.79749955e-05, -3.05203836e-05, -3.30709589e-05, -3.18335406e-05,\n",
       "       -2.51266028e-05, -2.82018246e-05, -3.18021963e-05, -3.66750436e-05,\n",
       "       -2.70025330e-05, -2.78576223e-05, -3.33841325e-05, -3.53429272e-05,\n",
       "       -3.42876393e-05, -3.54467393e-05, -3.43492335e-05, -3.39587538e-05])"
      ]
     },
     "execution_count": 32,
     "metadata": {},
     "output_type": "execute_result"
    }
   ],
   "source": [
    "fun(Z,2)[0] - vk(Z)"
   ]
  },
  {
   "cell_type": "code",
   "execution_count": 33,
   "metadata": {},
   "outputs": [
    {
     "data": {
      "text/plain": [
       "0.00013846929980398142"
      ]
     },
     "execution_count": 33,
     "metadata": {},
     "output_type": "execute_result"
    }
   ],
   "source": [
    "np.linalg.norm(fun(Z,2)[0] - vk(Z))"
   ]
  },
  {
   "cell_type": "code",
   "execution_count": 34,
   "metadata": {},
   "outputs": [
    {
     "name": "stdout",
     "output_type": "stream",
     "text": [
      "Error of gradient calculation in 10 times:\n",
      " [0.00013954680453867382, 0.000138515545348822, 0.00014588542371495156, 0.00014610262469100328, 0.00013781936542642294, 0.0001412491180034577, 0.00014821367160578738, 0.0001423182543098739, 0.0001448559683403691, 0.00013282453955823801]\n"
     ]
    }
   ],
   "source": [
    "ErrList = []\n",
    "for i in range(10):\n",
    "    X = np.random.rand(2*N)\n",
    "    ErrList.append(np.linalg.norm(fun(X,2)[0] - vk(X)))\n",
    "print('Error of gradient calculation in 10 times:\\n', ErrList)"
   ]
  },
  {
   "cell_type": "markdown",
   "metadata": {},
   "source": [
    "## Problem 6"
   ]
  },
  {
   "cell_type": "code",
   "execution_count": 35,
   "metadata": {},
   "outputs": [
    {
     "name": "stdout",
     "output_type": "stream",
     "text": [
      "alpha: 1\n",
      "beta: 1\n",
      "(a,b): (-1, -1)\n",
      "(c,d): (1, 1)\n",
      "N= 5\n"
     ]
    }
   ],
   "source": [
    "Geodesic1 = geodesic()\n",
    "print('alpha:', Geodesic1.alpha)\n",
    "print('beta:', Geodesic1.beta)\n",
    "print('(a,b):', Geodesic1.X0)\n",
    "print('(c,d):', Geodesic1.X1)\n",
    "print('N=', Geodesic1.N)"
   ]
  },
  {
   "cell_type": "code",
   "execution_count": 36,
   "metadata": {},
   "outputs": [
    {
     "data": {
      "text/plain": [
       "{'p': array([0.70108889, 0.12900783, 0.35185474, 0.55518099, 0.36052401,\n",
       "        0.47782087, 0.9606017 , 0.66568297, 0.85540824, 0.69925981]),\n",
       " 'f': 36.359541166956525,\n",
       " 'g': array([ 28.35111926,   6.90820067,  -6.90016296,   9.6954597 ,\n",
       "        -13.25733468,  -6.94521465,  13.781994  ,   3.29925856,\n",
       "         -4.16863026,  -4.44353443])}"
      ]
     },
     "execution_count": 36,
     "metadata": {},
     "output_type": "execute_result"
    }
   ],
   "source": [
    "x_p = np.random.rand(2*Geodesic1.N)\n",
    "x = {'p': x_p, 'f': Geodesic1(x_p, 1)[0], 'g': Geodesic1(x_p, 2)[0]}\n",
    "x"
   ]
  },
  {
   "cell_type": "code",
   "execution_count": 37,
   "metadata": {},
   "outputs": [
    {
     "data": {
      "text/plain": [
       "({'p': array([-0.58617946, -0.58661693, -0.2214127 , -0.22207693,  0.08596542,\n",
       "          0.08525978,  0.37398302,  0.37337486,  0.67106499,  0.67069048]),\n",
       "  'f': 12.556443975430051,\n",
       "  'g': array([ 0.00063248, -0.00053677,  0.00107533, -0.00070123,  0.00076214,\n",
       "         -0.001123  ,  0.00121109, -0.00041579,  0.00032566, -0.00067511])},\n",
       " 75,\n",
       " 1)"
      ]
     },
     "execution_count": 37,
     "metadata": {},
     "output_type": "execute_result"
    }
   ],
   "source": [
    "sdparams = {'maxit': 2000,'toler': 1.0e-4}\n",
    "x_n, Itera_s, Status = SteepDescent(Geodesic1,x,sdparams, 0)\n",
    "x_n, Itera_s, Status"
   ]
  },
  {
   "cell_type": "code",
   "execution_count": 38,
   "metadata": {},
   "outputs": [
    {
     "data": {
      "text/plain": [
       "array([[-0.58617946, -0.58661693],\n",
       "       [-0.2214127 , -0.22207693],\n",
       "       [ 0.08596542,  0.08525978],\n",
       "       [ 0.37398302,  0.37337486],\n",
       "       [ 0.67106499,  0.67069048]])"
      ]
     },
     "execution_count": 38,
     "metadata": {},
     "output_type": "execute_result"
    }
   ],
   "source": [
    "x_n['p'].reshape((Geodesic1.N, 2))"
   ]
  },
  {
   "cell_type": "markdown",
   "metadata": {},
   "source": [
    "## Problem 7"
   ]
  },
  {
   "cell_type": "code",
   "execution_count": 39,
   "metadata": {},
   "outputs": [
    {
     "name": "stdout",
     "output_type": "stream",
     "text": [
      "alpha: 4\n",
      "beta: 5\n",
      "(a,b): (-1, -1)\n",
      "(c,d): (1, 1)\n",
      "N= 10\n"
     ]
    }
   ],
   "source": [
    "Geodesic2 = geodesic(4, 5, x0 = (-1,-1), x1 = (1,1), n = 10)\n",
    "print('alpha:', Geodesic2.alpha)\n",
    "print('beta:', Geodesic2.beta)\n",
    "print('(a,b):', Geodesic2.X0)\n",
    "print('(c,d):', Geodesic2.X1)\n",
    "print('N=', Geodesic2.N)"
   ]
  },
  {
   "cell_type": "code",
   "execution_count": 40,
   "metadata": {},
   "outputs": [
    {
     "data": {
      "text/plain": [
       "({'p': array([-0.94522614, -0.69594431, -0.88883492, -0.39174478, -0.8195212 ,\n",
       "         -0.09043487, -0.71283905,  0.18957069, -0.5581709 ,  0.42509608,\n",
       "         -0.36128099,  0.60781467, -0.13112831,  0.73952288,  0.12495644,\n",
       "          0.82843146,  0.40273843,  0.89091049,  0.69769396,  0.9455418 ]),\n",
       "  'f': 11.57597732216398,\n",
       "  'g': array([ 1.44845668e-04,  6.39000463e-04,  3.84952493e-04,  1.12824552e-03,\n",
       "          3.62566810e-04,  1.85629960e-03,  1.46154233e-03,  8.53308299e-04,\n",
       "          9.86992699e-04,  3.15361930e-03,  1.45300070e-03, -1.34863083e-03,\n",
       "          2.26039971e-03,  2.40785205e-03,  8.57519532e-04, -6.77088499e-04,\n",
       "          1.37832463e-03,  4.43666088e-04,  5.33372806e-04, -1.85411838e-05])},\n",
       " 141,\n",
       " 1)"
      ]
     },
     "execution_count": 40,
     "metadata": {},
     "output_type": "execute_result"
    }
   ],
   "source": [
    "x_p = np.random.rand(2*Geodesic2.N)\n",
    "x = {'p': x_p, 'f': Geodesic2(x_p, 1)[0], 'g': Geodesic2(x_p, 2)[0]}\n",
    "sdparams = {'maxit': 1000,'toler': 1.0e-4}\n",
    "x_n, Itera_s, Status = SteepDescent(Geodesic2,x,sdparams, 0)\n",
    "x_n, Itera_s, Status"
   ]
  },
  {
   "cell_type": "code",
   "execution_count": 41,
   "metadata": {},
   "outputs": [],
   "source": [
    "x_nn = x_n['p'].reshape((Geodesic2.N, 2))\n",
    "x_nn = np.insert(x_nn, 0, values=Geodesic2.X0, axis=0)\n",
    "x_nn = np.insert(x_nn, x_nn.shape[0], values=Geodesic2.X1, axis=0)"
   ]
  },
  {
   "cell_type": "code",
   "execution_count": 42,
   "metadata": {},
   "outputs": [],
   "source": [
    "step = 0.01\n",
    "x = np.arange(-2,2,step)\n",
    "y = np.arange(-2,2,step)\n",
    "X,Y = np.meshgrid(x,y)\n",
    "Z = np.zeros(X.shape)\n",
    "for i in range(X.shape[0]):\n",
    "    for j in range(X.shape[1]):\n",
    "        Z[i,j] = Geodesic2.rho(X[i,j],Y[i,j])"
   ]
  },
  {
   "cell_type": "code",
   "execution_count": 43,
   "metadata": {},
   "outputs": [
    {
     "data": {
      "text/plain": [
       "(-2.0, 2.0)"
      ]
     },
     "execution_count": 43,
     "metadata": {},
     "output_type": "execute_result"
    },
    {
     "data": {
      "image/png": "[encoded data removed]",
      "text/plain": [
       "<Figure size 576x576 with 1 Axes>"
      ]
     },
     "metadata": {
      "needs_background": "light"
     },
     "output_type": "display_data"
    }
   ],
   "source": [
    "fig,ax = plt.subplots(1,1,figsize=(8,8))\n",
    "ax.contourf(X,Y,Z)\n",
    "ax.plot(x_nn[:,0],x_nn[:,1], color = 'r', marker='o', linestyle='solid', linewidth=2, markersize=12)\n",
    "ax.set_xlabel('$x$', fontsize=20)\n",
    "ax.set_ylabel('$y$', fontsize=20)\n",
    "ax.set_xlim([-2,2])\n",
    "ax.set_ylim([-2,2])"
   ]
  },
  {
   "cell_type": "code",
   "execution_count": 44,
   "metadata": {},
   "outputs": [
    {
     "data": {
      "image/png": "[encoded data removed]",
      "text/plain": [
       "<Figure size 1152x1152 with 9 Axes>"
      ]
     },
     "metadata": {
      "needs_background": "light"
     },
     "output_type": "display_data"
    }
   ],
   "source": [
    "Np = 3\n",
    "fig,ax = plt.subplots(Np,Np,figsize=(16,16))\n",
    "for i in range(Np):\n",
    "    for j in range(Np):\n",
    "        N = 10 - (3*i+j)\n",
    "        GeodesicN = geodesic(4, 5, x0 = (-1,-1), x1 = (1,1), n = N)\n",
    "        x_p = np.random.rand(2*GeodesicN.N)\n",
    "        x = {'p': x_p, 'f': GeodesicN(x_p, 1)[0], 'g': GeodesicN(x_p, 2)[0]}\n",
    "        sdparams = {'maxit': 1000,'toler': 1.0e-4}\n",
    "        x_n, Itera_s, Status = SteepDescent(GeodesicN,x,sdparams, 0)\n",
    "        x_nn = x_n['p'].reshape((GeodesicN.N, 2))\n",
    "        x_nn = np.insert(x_nn, 0, values=GeodesicN.X0, axis=0)\n",
    "        x_nn = np.insert(x_nn, x_nn.shape[0], values=GeodesicN.X1, axis=0)\n",
    "        ax[i,j].contourf(X,Y,Z)\n",
    "        ax[i,j].plot(x_nn[:,0],x_nn[:,1], color = 'r', marker='o', linestyle='solid', linewidth=2, markersize=12)\n",
    "        ax[i,j].set_xlabel('$x$', fontsize=20)\n",
    "        ax[i,j].set_ylabel('$y$', fontsize=20)\n",
    "        ax[i,j].set_title('N='+str(N))\n",
    "        ax[i,j].set_xlim([-2,2])\n",
    "        ax[i,j].set_ylim([-2,2])"
   ]
  },
  {
   "cell_type": "code",
   "execution_count": null,
   "metadata": {},
   "outputs": [],
   "source": []
  },
  {
   "cell_type": "code",
   "execution_count": null,
   "metadata": {},
   "outputs": [],
   "source": []
  }
 ],
 "metadata": {
  "kernelspec": {
   "display_name": "Python 3 (ipykernel)",
   "language": "python",
   "name": "python3"
  },
  "language_info": {
   "codemirror_mode": {
    "name": "ipython",
    "version": 3
   },
   "file_extension": ".py",
   "mimetype": "text/x-python",
   "name": "python",
   "nbconvert_exporter": "python",
   "pygments_lexer": "ipython3",
   "version": "3.8.11"
  },
  "varInspector": {
   "cols": {
    "lenName": 16,
    "lenType": 16,
    "lenVar": 40
   },
   "kernels_config": {
    "python": {
     "delete_cmd_postfix": "",
     "delete_cmd_prefix": "del ",
     "library": "var_list.py",
     "varRefreshCmd": "print(var_dic_list())"
    },
    "r": {
     "delete_cmd_postfix": ") ",
     "delete_cmd_prefix": "rm(",
     "library": "var_list.r",
     "varRefreshCmd": "cat(var_dic_list()) "
    }
   },
   "types_to_exclude": [
    "module",
    "function",
    "builtin_function_or_method",
    "instance",
    "_Feature"
   ],
   "window_display": false
  }
 },
 "nbformat": 4,
 "nbformat_minor": 4
}
