{
 "cells": [
  {
   "cell_type": "code",
   "execution_count": 1,
   "metadata": {},
   "outputs": [],
   "source": [
    "import timeit\n",
    "import math\n",
    "import numpy as np\n",
    "import globals \n",
    "from Opt726plus import SteepDescent, BFGS, Newton, LBFGS, DogLeg, TNewton, cgTrust\n",
    "from woods import woods\n",
    "from indef import indef\n",
    "from cragglvy import cragglvy\n",
    "from objg import objg"
   ]
  },
  {
   "cell_type": "code",
   "execution_count": 3,
   "metadata": {},
   "outputs": [],
   "source": [
    "def probres(inform,x,params,fun):\n",
    "    np.set_printoptions(formatter={'float': '{:8.4f}'.format})\n",
    "    if inform['status'] == 0:\n",
    "        print('CONVERGENCE FAILURE:')\n",
    "        print('{0} steps were taken without gradient size decreasing below {1:.4g}.\\n'.format(inform['iter'],params['toler']))\n",
    "    else:\n",
    "        print('Success: {0} steps taken\\n'.format(inform['iter']))\n",
    "    \n",
    "    #print('Ending point: {0}'.format(x['p']))\n",
    "    print('Ending value: {0:.4g}'.format(fun(x['p'],1)[0]))\n",
    "    print('No. function evaluations: {0}'.format(globals.numf))\n",
    "    #print('Ending gradient: {0}'.format(x['g']))\n",
    "    print('No. gradient evaluations {0}'.format(globals.numg))\n",
    "    print('Norm of ending gradient: {0:8.4g}'.format(np.linalg.norm(fun(x['p'],2)[0])))\n",
    "    print('No. Hessian evaluations {0}'.format(globals.numH))\n",
    "    print('No. Factorizations {0}'.format(globals.numFact))\n",
    "    print('Cg iterations {0}\\n'.format(globals.cgits))"
   ]
  },
  {
   "cell_type": "code",
   "execution_count": 25,
   "metadata": {},
   "outputs": [],
   "source": [
    "x = {'p': np.arange(1.0,21.0)}\n",
    "globals.initialize()\n",
    "[f,g,H] = woods(x['p'],7)"
   ]
  },
  {
   "cell_type": "code",
   "execution_count": 26,
   "metadata": {},
   "outputs": [
    {
     "data": {
      "text/plain": [
       "(25933852.0,\n",
       " array([-400.0000, 279.6000, 5404.0000, -819.6000, 38008.0000, -3560.4000,\n",
       "        103332.0000, -7139.6000, 255616.0000, -13800.4000, 431660.0000,\n",
       "        -19219.6000, 806024.0000, -30440.4000, 1128628.0000, -37059.6000,\n",
       "        1842832.0000, -53480.4000, 2332476.0000, -60659.6000]),\n",
       " <20x20 sparse matrix of type '<class 'numpy.float64'>'\n",
       " \twith 50 stored elements in Compressed Sparse Column format>)"
      ]
     },
     "execution_count": 26,
     "metadata": {},
     "output_type": "execute_result"
    }
   ],
   "source": [
    "f,g,H"
   ]
  },
  {
   "cell_type": "code",
   "execution_count": 27,
   "metadata": {},
   "outputs": [],
   "source": [
    "x = {'p': np.arange(1.0,2001.0)}\n",
    "globals.initialize()\n",
    "[H] = indef(x['p'],4)"
   ]
  },
  {
   "cell_type": "code",
   "execution_count": 28,
   "metadata": {},
   "outputs": [
    {
     "data": {
      "text/plain": [
       "<2000x2000 sparse matrix of type '<class 'numpy.float64'>'\n",
       "\twith 9994 stored elements in Compressed Sparse Column format>"
      ]
     },
     "execution_count": 28,
     "metadata": {},
     "output_type": "execute_result"
    }
   ],
   "source": [
    "H"
   ]
  },
  {
   "cell_type": "code",
   "execution_count": 29,
   "metadata": {},
   "outputs": [],
   "source": [
    "x = {'p': np.arange(1.0,21.0)}\n",
    "globals.initialize()\n",
    "[f,g,H] = cragglvy(x['p'],7)"
   ]
  },
  {
   "cell_type": "code",
   "execution_count": 30,
   "metadata": {},
   "outputs": [
    {
     "data": {
      "text/plain": [
       "(3.405408270842502e+29,\n",
       " array([ 12.0294, -601.4823, 352187.4778, -16946.0865, 1715304038.9848,\n",
       "        -11553708.3471, 5659349889488.9502, -5160653382.8285,\n",
       "        17181159197403252.0000, -2120323486097.3376,\n",
       "        51375497976419500032.0000, -858058195149708.0000,\n",
       "        153225772797743515828224.0000, -346340720162136512.0000,\n",
       "        456796248579059511749246976.0000, -139735032436863139840.0000,\n",
       "        1361707375780946899086683930624.0000,\n",
       "        -56373837269435089420288.0000, 303.9098, 334.0902]),\n",
       " <20x20 sparse matrix of type '<class 'numpy.float64'>'\n",
       " \twith 58 stored elements in Compressed Sparse Column format>)"
      ]
     },
     "execution_count": 30,
     "metadata": {},
     "output_type": "execute_result"
    }
   ],
   "source": [
    "f,g,H"
   ]
  },
  {
   "cell_type": "code",
   "execution_count": 3,
   "metadata": {},
   "outputs": [
    {
     "name": "stdout",
     "output_type": "stream",
     "text": [
      "Steepest descent\n"
     ]
    }
   ],
   "source": [
    "x = {'p': np.tile([-3.0,-1.0],500)} \n",
    "print('Steepest descent')\n",
    "globals.initialize()\n",
    "#sdparams = {'maxit': 2000,'toler': 1.0e-4}"
   ]
  },
  {
   "cell_type": "code",
   "execution_count": 4,
   "metadata": {},
   "outputs": [
    {
     "name": "stdout",
     "output_type": "stream",
     "text": [
      "Newton\n",
      "Success: 78 steps taken\n",
      "\n",
      "Ending value: 1.737e-11\n",
      "No. function evaluations: 656\n",
      "No. gradient evaluations 965\n",
      "Norm of ending gradient: 7.111e-05\n",
      "No. Hessian evaluations 78\n",
      "No. Factorizations 0\n",
      "Cg iterations 0\n",
      "\n"
     ]
    }
   ],
   "source": [
    "print('Newton')\n",
    "globals.initialize()\n",
    "nparams = {'maxit': 100,'toler': 1.0e-4,'method': 'sppert'}\n",
    "[inform,path] = Newton(woods,x,nparams)\n",
    "probres(inform,path,nparams,woods)"
   ]
  },
  {
   "cell_type": "code",
   "execution_count": 6,
   "metadata": {},
   "outputs": [
    {
     "name": "stdout",
     "output_type": "stream",
     "text": [
      "BFGS\n",
      "CONVERGENCE FAILURE:\n",
      "1 steps were taken without gradient size decreasing below 0.0001.\n",
      "\n",
      "Ending value: 6.733e+63\n",
      "No. function evaluations: 102\n",
      "No. gradient evaluations 103\n",
      "Norm of ending gradient: 2.173e+48\n",
      "No. Hessian evaluations 2\n",
      "No. Factorizations 0\n",
      "Cg iterations 0\n",
      "\n"
     ]
    }
   ],
   "source": [
    "print('BFGS')\n",
    "globals.initialize()\n",
    "nparams = {'maxit': 1000,'toler': 1.0e-4}\n",
    "[inform,path] = BFGS(woods,x,nparams)\n",
    "probres(inform,path,nparams,woods)"
   ]
  },
  {
   "cell_type": "code",
   "execution_count": 7,
   "metadata": {},
   "outputs": [
    {
     "name": "stdout",
     "output_type": "stream",
     "text": [
      "Newton\n",
      "Success: 43 steps taken\n",
      "\n",
      "Ending value: 7.737\n",
      "No. function evaluations: 317\n",
      "No. gradient evaluations 484\n",
      "Norm of ending gradient: 6.79e-05\n",
      "No. Hessian evaluations 43\n",
      "No. Factorizations 0\n",
      "Cg iterations 0\n",
      "\n"
     ]
    }
   ],
   "source": [
    "print('Newton')\n",
    "x = {'p': np.arange(1.0,21.0)}\n",
    "globals.initialize()\n",
    "nparams = {'maxit': 100,'toler': 1.0e-4,'method': 'sppert'}\n",
    "[inform,path] = Newton(objg,x,nparams)\n",
    "probres(inform,path,nparams,objg)"
   ]
  },
  {
   "cell_type": "code",
   "execution_count": 8,
   "metadata": {},
   "outputs": [
    {
     "name": "stdout",
     "output_type": "stream",
     "text": [
      "BFGS\n",
      "CONVERGENCE FAILURE:\n",
      "7 steps were taken without gradient size decreasing below 0.0001.\n",
      "\n",
      "Ending value: 7.915e+58\n",
      "No. function evaluations: 81\n",
      "No. gradient evaluations 72\n",
      "Norm of ending gradient: 1.047e+45\n",
      "No. Hessian evaluations 8\n",
      "No. Factorizations 5\n",
      "Cg iterations 0\n",
      "\n"
     ]
    }
   ],
   "source": [
    "print('BFGS')\n",
    "x = {'p': np.arange(1.0,21.0)}\n",
    "globals.initialize()\n",
    "nparams = {'maxit': 1000,'toler': 1.0e-4}\n",
    "[inform,path] = BFGS(objg,x,nparams)\n",
    "probres(inform,path,nparams,objg)"
   ]
  },
  {
   "cell_type": "code",
   "execution_count": 9,
   "metadata": {},
   "outputs": [
    {
     "name": "stdout",
     "output_type": "stream",
     "text": [
      "LBFGS\n",
      "Success: 137 steps taken\n",
      "\n",
      "Ending value: 7.737\n",
      "No. function evaluations: 469\n",
      "No. gradient evaluations 690\n",
      "Norm of ending gradient: 0.001376\n",
      "No. Hessian evaluations 137\n",
      "No. Factorizations 0\n",
      "Cg iterations 0\n",
      "\n"
     ]
    }
   ],
   "source": [
    "print('LBFGS')\n",
    "x = {'p': np.arange(1.0,21.0)}\n",
    "globals.initialize()\n",
    "nparams = {'maxit': 1000,'toler': 1.0e-4,'m': 3}\n",
    "[inform,path] = LBFGS(objg,x,nparams)\n",
    "probres(inform,path,nparams,objg)"
   ]
  },
  {
   "cell_type": "code",
   "execution_count": 10,
   "metadata": {},
   "outputs": [
    {
     "name": "stdout",
     "output_type": "stream",
     "text": [
      "LBFGS\n",
      "Success: 47 steps taken\n",
      "\n",
      "Ending value: 4.509e-11\n",
      "No. function evaluations: 171\n",
      "No. gradient evaluations 244\n",
      "Norm of ending gradient: 0.000245\n",
      "No. Hessian evaluations 47\n",
      "No. Factorizations 0\n",
      "Cg iterations 0\n",
      "\n"
     ]
    }
   ],
   "source": [
    "print('LBFGS')\n",
    "x = {'p': np.tile([-3.0,-1.0],500)}\n",
    "globals.initialize()\n",
    "nparams = {'maxit': 1000,'toler': 1.0e-4,'m': 17}\n",
    "[inform,path] = LBFGS(woods,x,nparams)\n",
    "probres(inform,path,nparams,woods)"
   ]
  },
  {
   "cell_type": "code",
   "execution_count": 11,
   "metadata": {},
   "outputs": [
    {
     "name": "stdout",
     "output_type": "stream",
     "text": [
      "DogLeg\n",
      "Success: 24 steps taken\n",
      "\n",
      "Ending value: 7.737\n",
      "No. function evaluations: 49\n",
      "No. gradient evaluations 48\n",
      "Norm of ending gradient: 5.271e-05\n",
      "No. Hessian evaluations 24\n",
      "No. Factorizations 1\n",
      "Cg iterations 0\n",
      "\n"
     ]
    }
   ],
   "source": [
    "print('DogLeg')\n",
    "#x = {'p': np.array([-1.2, 1.0])}\n",
    "x = {'p': np.arange(1.0,21.0)}\n",
    "globals.initialize()\n",
    "nparams = {'maxit': 1000,'toler': 1.0e-4,'delbar': 100,'eta': 0.1,'initdel': 1}\n",
    "[inform,path] = DogLeg(objg,x,nparams)\n",
    "probres(inform,path,nparams,objg)"
   ]
  },
  {
   "cell_type": "code",
   "execution_count": 12,
   "metadata": {},
   "outputs": [
    {
     "name": "stdout",
     "output_type": "stream",
     "text": [
      "DogLeg\n",
      "Success: 44 steps taken\n",
      "\n",
      "Ending value: 3.118e-21\n",
      "No. function evaluations: 89\n",
      "No. gradient evaluations 88\n",
      "Norm of ending gradient: 1.881e-09\n",
      "No. Hessian evaluations 44\n",
      "No. Factorizations 0\n",
      "Cg iterations 0\n",
      "\n"
     ]
    }
   ],
   "source": [
    "print('DogLeg')\n",
    "x = {'p': np.tile([-3.0,-1.0],500)}\n",
    "globals.initialize()\n",
    "nparams = {'maxit': 1000,'toler': 1.0e-4,'delbar': 100,'eta': 0.1,'initdel': 1}\n",
    "[inform,path] = DogLeg(woods,x,nparams)\n",
    "probres(inform,path,nparams,woods)"
   ]
  },
  {
   "cell_type": "code",
   "execution_count": 13,
   "metadata": {},
   "outputs": [
    {
     "name": "stdout",
     "output_type": "stream",
     "text": [
      "TNewton\n",
      "Success: 26 steps taken\n",
      "\n",
      "Ending value: 7.737\n",
      "No. function evaluations: 91\n",
      "No. gradient evaluations 129\n",
      "Norm of ending gradient: 8.008e-05\n",
      "No. Hessian evaluations 26\n",
      "No. Factorizations 0\n",
      "Cg iterations 61\n",
      "\n"
     ]
    }
   ],
   "source": [
    "print('TNewton')\n",
    "#x = {'p': np.array([-1.2, 1.0])}\n",
    "x = {'p': np.arange(1.0,21.0)}\n",
    "globals.initialize()\n",
    "nparams = {'maxit': 1000,'toler': 1.0e-4}\n",
    "[inform,path] = TNewton(objg,x,nparams)\n",
    "probres(inform,path,nparams,objg)"
   ]
  },
  {
   "cell_type": "code",
   "execution_count": 14,
   "metadata": {},
   "outputs": [
    {
     "name": "stdout",
     "output_type": "stream",
     "text": [
      "TNewton\n",
      "CONVERGENCE FAILURE:\n",
      "1000 steps were taken without gradient size decreasing below 0.0001.\n",
      "\n",
      "Ending value: 1969\n",
      "No. function evaluations: 3001\n",
      "No. gradient evaluations 5000\n",
      "Norm of ending gradient:    1.306\n",
      "No. Hessian evaluations 1000\n",
      "No. Factorizations 0\n",
      "Cg iterations 513\n",
      "\n"
     ]
    }
   ],
   "source": [
    "print('TNewton')\n",
    "x = {'p': np.tile([-3.0,-1.0],500)}\n",
    "globals.initialize()\n",
    "nparams = {'maxit': 1000,'toler': 1.0e-4}\n",
    "[inform,path] = TNewton(woods,x,nparams)\n",
    "probres(inform,path,nparams,woods)"
   ]
  },
  {
   "cell_type": "code",
   "execution_count": 24,
   "metadata": {},
   "outputs": [
    {
     "name": "stdout",
     "output_type": "stream",
     "text": [
      "cgTrust\n",
      "CONVERGENCE FAILURE:\n",
      "1000 steps were taken without gradient size decreasing below 0.0001.\n",
      "\n",
      "Ending value: 1969\n",
      "No. function evaluations: 2001\n",
      "No. gradient evaluations 2000\n",
      "Norm of ending gradient:    1.306\n",
      "No. Hessian evaluations 1000\n",
      "No. Factorizations 0\n",
      "Cg iterations 513\n",
      "\n"
     ]
    }
   ],
   "source": [
    "print('cgTrust')\n",
    "x = {'p': np.tile([-3.0,-1.0],500)}\n",
    "globals.initialize()\n",
    "#nparams = {'maxit': 1000,'toler': 1.0e-4,'delbar': 100,'eta': 0.1,'initdel': 1}\n",
    "nparams = {'maxit': 1000,'toler': 1.0e-4,'delbar': 10000,'eta': 0.1,'initdel': 1}\n",
    "[inform,path] = cgTrust(woods,x,nparams)\n",
    "probres(inform,path,nparams,woods)"
   ]
  },
  {
   "cell_type": "code",
   "execution_count": 20,
   "metadata": {},
   "outputs": [
    {
     "name": "stdout",
     "output_type": "stream",
     "text": [
      "cgTrust\n",
      "CONVERGENCE FAILURE:\n",
      "1000 steps were taken without gradient size decreasing below 0.0001.\n",
      "\n",
      "Ending value: 6755\n",
      "No. function evaluations: 2001\n",
      "No. gradient evaluations 2000\n",
      "Norm of ending gradient:     2493\n",
      "No. Hessian evaluations 1000\n",
      "No. Factorizations 0\n",
      "Cg iterations 2985\n",
      "\n"
     ]
    }
   ],
   "source": [
    "print('cgTrust')\n",
    "x# = {'p': np.array([-1.2, 1.0])}\n",
    "x = {'p': np.arange(1.0,21.0)}\n",
    "globals.initialize()\n",
    "#nparams = {'maxit': 1000,'toler': 1.0e-4,'delbar': 100,'eta': 0.1,'initdel': 1}\n",
    "nparams = {'maxit': 1000,'toler': 1.0e-4,'delbar': 1000,'eta': 0.1,'initdel': 1}\n",
    "[inform,path] = cgTrust(objg,x,nparams)\n",
    "probres(inform,path,nparams,objg)"
   ]
  },
  {
   "cell_type": "code",
   "execution_count": 21,
   "metadata": {},
   "outputs": [
    {
     "name": "stdout",
     "output_type": "stream",
     "text": [
      "Large models\n",
      "woods:\n",
      "Newton\n",
      "Success: 80 steps taken\n",
      "\n",
      "Ending value: 1.934e-11\n",
      "No. function evaluations: 672\n",
      "No. gradient evaluations 989\n",
      "Norm of ending gradient: 7.498e-05\n",
      "No. Hessian evaluations 80\n",
      "No. Factorizations 0\n",
      "Cg iterations 0\n",
      "\n",
      "The time difference is : 36.67120743915439\n"
     ]
    }
   ],
   "source": [
    "print('Large models')\n",
    "print('woods:')\n",
    "\n",
    "print('Newton')\n",
    "x = {'p': np.tile([-3.0,-1.0],5000)}\n",
    "globals.initialize()\n",
    "starttime = timeit.default_timer()\n",
    "nparams = {'maxit': 1000,'toler': 1.0e-4,'method': 'sppert'}\n",
    "[inform,path] = Newton(woods,x,nparams)\n",
    "probres(inform,path,nparams,woods)\n",
    "print(\"The time difference is :\", timeit.default_timer() - starttime)"
   ]
  },
  {
   "cell_type": "code",
   "execution_count": null,
   "metadata": {},
   "outputs": [
    {
     "name": "stdout",
     "output_type": "stream",
     "text": [
      "BFGS\n"
     ]
    }
   ],
   "source": [
    "print('BFGS')\n",
    "x = {'p': np.tile([-3.0,-1.0],5000)}\n",
    "globals.initialize()\n",
    "starttime = timeit.default_timer()\n",
    "nparams = {'maxit': 1000,'toler': 1.0e-4,'method': 'sppert'}\n",
    "[inform,path] = BFGS(woods,x,nparams)\n",
    "probres(inform,path,nparams,woods)\n",
    "print(\"The time difference is :\", timeit.default_timer() - starttime)"
   ]
  },
  {
   "cell_type": "code",
   "execution_count": 4,
   "metadata": {},
   "outputs": [
    {
     "name": "stdout",
     "output_type": "stream",
     "text": [
      "LBFGS\n",
      "Success: 47 steps taken\n",
      "\n",
      "Ending value: 4.509e-10\n",
      "No. function evaluations: 171\n",
      "No. gradient evaluations 244\n",
      "Norm of ending gradient: 0.0007747\n",
      "No. Hessian evaluations 47\n",
      "No. Factorizations 0\n",
      "Cg iterations 0\n",
      "\n",
      "The time difference is : 60.14357878640294\n"
     ]
    }
   ],
   "source": [
    "print('LBFGS')\n",
    "x = {'p': np.tile([-3.0,-1.0],5000)}\n",
    "globals.initialize()\n",
    "starttime = timeit.default_timer()\n",
    "nparams = {'maxit': 1000,'toler': 1.0e-4,'m': 17}\n",
    "[inform,path] = LBFGS(woods,x,nparams)\n",
    "probres(inform,path,nparams,woods)\n",
    "print(\"The time difference is :\", timeit.default_timer() - starttime)"
   ]
  },
  {
   "cell_type": "code",
   "execution_count": 5,
   "metadata": {},
   "outputs": [
    {
     "name": "stdout",
     "output_type": "stream",
     "text": [
      "TNewton\n",
      "CONVERGENCE FAILURE:\n",
      "1000 steps were taken without gradient size decreasing below 0.0001.\n",
      "\n",
      "Ending value: 1.969e+04\n",
      "No. function evaluations: 3001\n",
      "No. gradient evaluations 5000\n",
      "Norm of ending gradient:    4.129\n",
      "No. Hessian evaluations 1000\n",
      "No. Factorizations 0\n",
      "Cg iterations 513\n",
      "\n",
      "The time difference is : 228.44381106458604\n"
     ]
    }
   ],
   "source": [
    "print('TNewton')\n",
    "x = {'p': np.tile([-3.0,-1.0],5000)}\n",
    "globals.initialize()\n",
    "starttime = timeit.default_timer()\n",
    "nparams = {'maxit': 1000,'toler': 1.0e-4}\n",
    "[inform,path] = TNewton(woods,x,nparams)\n",
    "probres(inform,path,nparams,woods)\n",
    "print(\"The time difference is :\", timeit.default_timer() - starttime)"
   ]
  },
  {
   "cell_type": "code",
   "execution_count": 6,
   "metadata": {},
   "outputs": [
    {
     "name": "stdout",
     "output_type": "stream",
     "text": [
      "DogLeg\n"
     ]
    },
    {
     "name": "stderr",
     "output_type": "stream",
     "text": [
      "/home/hp/.local/lib/python3.6/site-packages/scipy/sparse/linalg/dsolve/linsolve.py:145: SparseEfficiencyWarning: spsolve requires A be CSC or CSR matrix format\n",
      "  SparseEfficiencyWarning)\n"
     ]
    },
    {
     "name": "stdout",
     "output_type": "stream",
     "text": [
      "Success: 63 steps taken\n",
      "\n",
      "Ending value: 4.015e-19\n",
      "No. function evaluations: 127\n",
      "No. gradient evaluations 126\n",
      "Norm of ending gradient: 2.275e-08\n",
      "No. Hessian evaluations 63\n",
      "No. Factorizations 17\n",
      "Cg iterations 0\n",
      "\n",
      "The time difference is : 119.16308817826211\n"
     ]
    }
   ],
   "source": [
    "print('DogLeg')\n",
    "x = {'p': np.tile([-3.0,-1.0],5000)}\n",
    "globals.initialize()\n",
    "starttime = timeit.default_timer()\n",
    "nparams = {'maxit': 1000,'toler': 1.0e-4,'delbar': 100,'eta': 0.1,'initdel': 1}\n",
    "[inform,path] = DogLeg(woods,x,nparams)\n",
    "probres(inform,path,nparams,woods)\n",
    "print(\"The time difference is :\", timeit.default_timer() - starttime)"
   ]
  },
  {
   "cell_type": "code",
   "execution_count": 7,
   "metadata": {},
   "outputs": [
    {
     "name": "stdout",
     "output_type": "stream",
     "text": [
      "cgTrust\n",
      "CONVERGENCE FAILURE:\n",
      "1000 steps were taken without gradient size decreasing below 0.0001.\n",
      "\n",
      "Ending value: 1.969e+04\n",
      "No. function evaluations: 2001\n",
      "No. gradient evaluations 2000\n",
      "Norm of ending gradient:    4.129\n",
      "No. Hessian evaluations 1000\n",
      "No. Factorizations 0\n",
      "Cg iterations 513\n",
      "\n",
      "The time difference is : 157.80764498375356\n"
     ]
    }
   ],
   "source": [
    "print('cgTrust')\n",
    "x = {'p': np.tile([-3.0,-1.0],5000)}\n",
    "globals.initialize()\n",
    "starttime = timeit.default_timer()\n",
    "nparams = {'maxit': 1000,'toler': 1.0e-4,'delbar': 100,'eta': 0.1,'initdel': 1}\n",
    "[inform,path] = cgTrust(woods,x,nparams)\n",
    "probres(inform,path,nparams,woods)\n",
    "print(\"The time difference is :\", timeit.default_timer() - starttime)"
   ]
  },
  {
   "cell_type": "code",
   "execution_count": 23,
   "metadata": {},
   "outputs": [
    {
     "name": "stdout",
     "output_type": "stream",
     "text": [
      "cgTrust\n",
      "CONVERGENCE FAILURE:\n",
      "1000 steps were taken without gradient size decreasing below 0.0001.\n",
      "\n",
      "Ending value: 1.969e+04\n",
      "No. function evaluations: 2001\n",
      "No. gradient evaluations 2000\n",
      "Norm of ending gradient:    4.129\n",
      "No. Hessian evaluations 1000\n",
      "No. Factorizations 0\n",
      "Cg iterations 513\n",
      "\n",
      "The time difference is : 159.78888883441687\n"
     ]
    }
   ],
   "source": [
    "print('cgTrust')\n",
    "x = {'p': np.tile([-3.0,-1.0],5000)}\n",
    "globals.initialize()\n",
    "starttime = timeit.default_timer()\n",
    "nparams = {'maxit': 1000,'toler': 1.0e-4,'delbar': 100000,'eta': 0.1,'initdel': 1}\n",
    "[inform,path] = cgTrust(woods,x,nparams)\n",
    "probres(inform,path,nparams,woods)\n",
    "print(\"The time difference is :\", timeit.default_timer() - starttime)"
   ]
  },
  {
   "cell_type": "code",
   "execution_count": 8,
   "metadata": {},
   "outputs": [
    {
     "name": "stdout",
     "output_type": "stream",
     "text": [
      "indef:\n",
      "Newton\n",
      "CONVERGENCE FAILURE:\n",
      "4 steps were taken without gradient size decreasing below 0.0001.\n",
      "\n",
      "Ending value: -2.5e+09\n",
      "No. function evaluations: 118\n",
      "No. gradient evaluations 119\n",
      "Norm of ending gradient:     7064\n",
      "No. Hessian evaluations 4\n",
      "No. Factorizations 15\n",
      "Cg iterations 0\n",
      "\n",
      "The time difference is : 102.70085083320737\n"
     ]
    }
   ],
   "source": [
    "print('indef:')\n",
    "print('Newton')\n",
    "x = {'p': 2.0*np.ones((10000,))}\n",
    "x['p'][0] = 1.0  \n",
    "globals.initialize()\n",
    "starttime = timeit.default_timer()\n",
    "nparams = {'maxit': 1000,'toler': 1.0e-4,'method': 'sppert'}\n",
    "[inform,path] = Newton(indef,x,nparams)\n",
    "probres(inform,path,nparams,indef)\n",
    "print(\"The time difference is :\", timeit.default_timer() - starttime)"
   ]
  },
  {
   "cell_type": "code",
   "execution_count": 9,
   "metadata": {},
   "outputs": [
    {
     "name": "stdout",
     "output_type": "stream",
     "text": [
      "LBFGS\n",
      "Success: 2 steps taken\n",
      "\n",
      "Ending value: -2.5e+09\n",
      "No. function evaluations: 24\n",
      "No. gradient evaluations 27\n",
      "Norm of ending gradient: 7.772e-13\n",
      "No. Hessian evaluations 2\n",
      "No. Factorizations 0\n",
      "Cg iterations 0\n",
      "\n",
      "The time difference is : 2.9042192958295345\n"
     ]
    }
   ],
   "source": [
    "print('LBFGS')\n",
    "x = {'p': 2.0*np.ones((10000,))}\n",
    "globals.initialize()\n",
    "starttime = timeit.default_timer()\n",
    "nparams = {'maxit': 1000,'toler': 1.0e-5,'m': 17}\n",
    "[inform,path] = LBFGS(indef,x,nparams)\n",
    "probres(inform,path,nparams,indef)\n",
    "print(\"The time difference is :\", timeit.default_timer() - starttime)"
   ]
  },
  {
   "cell_type": "code",
   "execution_count": 10,
   "metadata": {},
   "outputs": [
    {
     "name": "stdout",
     "output_type": "stream",
     "text": [
      "TNewton\n",
      "Success: 1 steps taken\n",
      "\n",
      "Ending value: -2.5e+09\n",
      "No. function evaluations: 3\n",
      "No. gradient evaluations 4\n",
      "Norm of ending gradient: 7.253e-06\n",
      "No. Hessian evaluations 1\n",
      "No. Factorizations 0\n",
      "Cg iterations 0\n",
      "\n",
      "The time difference is : 0.33087293058633804\n"
     ]
    }
   ],
   "source": [
    "print('TNewton')\n",
    "x = {'p': 2.0*np.ones((10000,))}\n",
    "globals.initialize()\n",
    "starttime = timeit.default_timer()\n",
    "nparams = {'maxit': 1000,'toler': 1.0e-5}\n",
    "[inform,path] = TNewton(indef,x,nparams)\n",
    "probres(inform,path,nparams,indef)\n",
    "print(\"The time difference is :\", timeit.default_timer() - starttime)"
   ]
  },
  {
   "cell_type": "code",
   "execution_count": 11,
   "metadata": {},
   "outputs": [
    {
     "name": "stdout",
     "output_type": "stream",
     "text": [
      "DogLeg\n",
      "CONVERGENCE FAILURE:\n",
      "1000 steps were taken without gradient size decreasing below 0.0001.\n",
      "\n",
      "Ending value: -9.94e+06\n",
      "No. function evaluations: 2001\n",
      "No. gradient evaluations 2000\n",
      "Norm of ending gradient:     99.8\n",
      "No. Hessian evaluations 1000\n",
      "No. Factorizations 0\n",
      "Cg iterations 0\n",
      "\n",
      "The time difference is : 165.5564765986055\n"
     ]
    }
   ],
   "source": [
    "print('DogLeg')\n",
    "x = {'p': 2.0*np.ones((10000,))}\n",
    "globals.initialize()\n",
    "starttime = timeit.default_timer()\n",
    "nparams = {'maxit': 1000,'toler': 1.0e-4,'delbar': 100,'eta': 0.1,'initdel': 10}\n",
    "[inform,path] = DogLeg(indef,x,nparams)\n",
    "probres(inform,path,nparams,indef)\n",
    "print(\"The time difference is :\", timeit.default_timer() - starttime)"
   ]
  },
  {
   "cell_type": "code",
   "execution_count": 12,
   "metadata": {},
   "outputs": [
    {
     "name": "stdout",
     "output_type": "stream",
     "text": [
      "cgTrust\n",
      "Success: 1 steps taken\n",
      "\n",
      "Ending value: -2.5e+09\n",
      "No. function evaluations: 3\n",
      "No. gradient evaluations 2\n",
      "Norm of ending gradient: 7.253e-06\n",
      "No. Hessian evaluations 1\n",
      "No. Factorizations 0\n",
      "Cg iterations 0\n",
      "\n",
      "The time difference is : 0.23489359766244888\n"
     ]
    }
   ],
   "source": [
    "print('cgTrust')\n",
    "x = {'p': 2.0*np.ones((10000,))}\n",
    "globals.initialize()\n",
    "starttime = timeit.default_timer()\n",
    "nparams = {'maxit': 1000,'toler': 1.0e-4,'delbar': 100,'eta': 0.1,'initdel': 10}\n",
    "[inform,path] = cgTrust(indef,x,nparams)\n",
    "probres(inform,path,nparams,indef)\n",
    "print(\"The time difference is :\", timeit.default_timer() - starttime)"
   ]
  },
  {
   "cell_type": "code",
   "execution_count": 21,
   "metadata": {},
   "outputs": [
    {
     "name": "stdout",
     "output_type": "stream",
     "text": [
      "cgTrust\n",
      "Success: 1 steps taken\n",
      "\n",
      "Ending value: -2.5e+09\n",
      "No. function evaluations: 3\n",
      "No. gradient evaluations 2\n",
      "Norm of ending gradient: 7.253e-06\n",
      "No. Hessian evaluations 1\n",
      "No. Factorizations 0\n",
      "Cg iterations 0\n",
      "\n",
      "The time difference is : 0.23647460900247097\n"
     ]
    }
   ],
   "source": [
    "print('cgTrust')\n",
    "x = {'p': 2.0*np.ones((10000,))}\n",
    "globals.initialize()\n",
    "starttime = timeit.default_timer()\n",
    "nparams = {'maxit': 1000,'toler': 1.0e-4,'delbar': 10000,'eta': 0.1,'initdel': 10}\n",
    "[inform,path] = cgTrust(indef,x,nparams)\n",
    "probres(inform,path,nparams,indef)\n",
    "print(\"The time difference is :\", timeit.default_timer() - starttime)"
   ]
  },
  {
   "cell_type": "code",
   "execution_count": 17,
   "metadata": {},
   "outputs": [
    {
     "name": "stdout",
     "output_type": "stream",
     "text": [
      "cragglvy:\n",
      "Newton\n",
      "CONVERGENCE FAILURE:\n",
      "1 steps were taken without gradient size decreasing below 0.0001.\n",
      "\n",
      "Ending value: nan\n",
      "No. function evaluations: 102\n",
      "No. gradient evaluations 102\n",
      "Norm of ending gradient:      nan\n",
      "No. Hessian evaluations 1\n",
      "No. Factorizations 0\n",
      "Cg iterations 0\n",
      "\n",
      "The time difference is : 4.788590015843511\n"
     ]
    }
   ],
   "source": [
    "print('cragglvy:')\n",
    "print('Newton')\n",
    "x = {'p': 2.0*np.ones((10000,))}\n",
    "x['p'][0] = 1.0  \n",
    "globals.initialize()\n",
    "starttime = timeit.default_timer()\n",
    "nparams = {'maxit': 1000,'toler': 1.0e-4,'method': 'sppert'}\n",
    "[inform,path] = Newton(cragglvy,x,nparams)\n",
    "probres(inform,path,nparams,cragglvy)\n",
    "print(\"The time difference is :\", timeit.default_timer() - starttime)"
   ]
  },
  {
   "cell_type": "code",
   "execution_count": 16,
   "metadata": {},
   "outputs": [
    {
     "name": "stdout",
     "output_type": "stream",
     "text": [
      "LBFGS\n",
      "Success: 38 steps taken\n",
      "\n",
      "Ending value: 3378\n",
      "No. function evaluations: 137\n",
      "No. gradient evaluations 194\n",
      "Norm of ending gradient:    0.308\n",
      "No. Hessian evaluations 38\n",
      "No. Factorizations 0\n",
      "Cg iterations 0\n",
      "\n",
      "The time difference is : 53.09688875824213\n"
     ]
    }
   ],
   "source": [
    "print('LBFGS')\n",
    "x = {'p': 2.0*np.ones((10000,))}\n",
    "x['p'][0] = 1.0  \n",
    "globals.initialize()\n",
    "starttime = timeit.default_timer()\n",
    "nparams = {'maxit': 1000,'toler': 1.0e-4,'m': 17}\n",
    "[inform,path] = LBFGS(cragglvy,x,nparams)\n",
    "probres(inform,path,nparams,cragglvy)\n",
    "print(\"The time difference is :\", timeit.default_timer() - starttime)"
   ]
  },
  {
   "cell_type": "code",
   "execution_count": 14,
   "metadata": {},
   "outputs": [
    {
     "name": "stdout",
     "output_type": "stream",
     "text": [
      "TNewton\n",
      "Success: 23 steps taken\n",
      "\n",
      "Ending value: 3378\n",
      "No. function evaluations: 69\n",
      "No. gradient evaluations 114\n",
      "Norm of ending gradient: 1.13e-05\n",
      "No. Hessian evaluations 23\n",
      "No. Factorizations 0\n",
      "Cg iterations 87\n",
      "\n",
      "The time difference is : 7.511682758107781\n"
     ]
    }
   ],
   "source": [
    "print('TNewton')\n",
    "x = {'p': 2.0*np.ones((10000,))}\n",
    "x['p'][0] = 1.0  \n",
    "globals.initialize()\n",
    "starttime = timeit.default_timer()\n",
    "nparams = {'maxit': 1000,'toler': 1.0e-4}\n",
    "[inform,path] = TNewton(cragglvy,x,nparams)\n",
    "probres(inform,path,nparams,cragglvy)\n",
    "print(\"The time difference is :\", timeit.default_timer() - starttime)"
   ]
  },
  {
   "cell_type": "code",
   "execution_count": 18,
   "metadata": {},
   "outputs": [
    {
     "name": "stdout",
     "output_type": "stream",
     "text": [
      "DogLeg\n",
      "CONVERGENCE FAILURE:\n",
      "1000 steps were taken without gradient size decreasing below 0.0001.\n",
      "\n",
      "Ending value: 5.5e+06\n",
      "No. function evaluations: 2001\n",
      "No. gradient evaluations 2000\n",
      "Norm of ending gradient: 4.019e+05\n",
      "No. Hessian evaluations 1000\n",
      "No. Factorizations 0\n",
      "Cg iterations 0\n",
      "\n",
      "The time difference is : 187.58797547966242\n"
     ]
    }
   ],
   "source": [
    "print('DogLeg')\n",
    "x = {'p': 2.0*np.ones((10000,))}\n",
    "x['p'][0] = 1.0 \n",
    "globals.initialize()\n",
    "starttime = timeit.default_timer()\n",
    "nparams = {'maxit': 1000,'toler': 1.0e-4,'delbar': 100,'eta': 0.1,'initdel': 1}\n",
    "[inform,path] = DogLeg(cragglvy,x,nparams)\n",
    "probres(inform,path,nparams,cragglvy)\n",
    "print(\"The time difference is :\", timeit.default_timer() - starttime)"
   ]
  },
  {
   "cell_type": "code",
   "execution_count": 20,
   "metadata": {},
   "outputs": [
    {
     "name": "stdout",
     "output_type": "stream",
     "text": [
      "DogLeg\n",
      "CONVERGENCE FAILURE:\n",
      "1000 steps were taken without gradient size decreasing below 0.0001.\n",
      "\n",
      "Ending value: 5.5e+06\n",
      "No. function evaluations: 2001\n",
      "No. gradient evaluations 2000\n",
      "Norm of ending gradient: 4.019e+05\n",
      "No. Hessian evaluations 1000\n",
      "No. Factorizations 0\n",
      "Cg iterations 0\n",
      "\n",
      "The time difference is : 186.48272829316556\n"
     ]
    }
   ],
   "source": [
    "print('DogLeg')\n",
    "x = {'p': 2.0*np.ones((10000,))}\n",
    "x['p'][0] = 1.0 \n",
    "globals.initialize()\n",
    "starttime = timeit.default_timer()\n",
    "nparams = {'maxit': 1000,'toler': 1.0e-4,'delbar': 10000,'eta': 0.1,'initdel': 1}\n",
    "[inform,path] = DogLeg(cragglvy,x,nparams)\n",
    "probres(inform,path,nparams,cragglvy)\n",
    "print(\"The time difference is :\", timeit.default_timer() - starttime)"
   ]
  },
  {
   "cell_type": "code",
   "execution_count": 19,
   "metadata": {},
   "outputs": [
    {
     "name": "stdout",
     "output_type": "stream",
     "text": [
      "cgTrust\n",
      "Success: 23 steps taken\n",
      "\n",
      "Ending value: 3378\n",
      "No. function evaluations: 47\n",
      "No. gradient evaluations 46\n",
      "Norm of ending gradient: 1.13e-05\n",
      "No. Hessian evaluations 23\n",
      "No. Factorizations 0\n",
      "Cg iterations 87\n",
      "\n",
      "The time difference is : 4.430687582120299\n"
     ]
    }
   ],
   "source": [
    "print('cgTrust')\n",
    "x = {'p': 2.0*np.ones((10000,))}\n",
    "x['p'][0] = 1.0 \n",
    "globals.initialize()\n",
    "starttime = timeit.default_timer()\n",
    "nparams = {'maxit': 1000,'toler': 1.0e-4,'delbar': 100,'eta': 0.1,'initdel': 1}\n",
    "[inform,path] = cgTrust(cragglvy,x,nparams)\n",
    "probres(inform,path,nparams,cragglvy)\n",
    "print(\"The time difference is :\", timeit.default_timer() - starttime)"
   ]
  },
  {
   "cell_type": "code",
   "execution_count": null,
   "metadata": {},
   "outputs": [],
   "source": []
  }
 ],
 "metadata": {
  "kernelspec": {
   "display_name": "Python 3",
   "language": "python",
   "name": "python3"
  },
  "varInspector": {
   "cols": {
    "lenName": 16,
    "lenType": 16,
    "lenVar": 40
   },
   "kernels_config": {
    "python": {
     "delete_cmd_postfix": "",
     "delete_cmd_prefix": "del ",
     "library": "var_list.py",
     "varRefreshCmd": "print(var_dic_list())"
    },
    "r": {
     "delete_cmd_postfix": ") ",
     "delete_cmd_prefix": "rm(",
     "library": "var_list.r",
     "varRefreshCmd": "cat(var_dic_list()) "
    }
   },
   "types_to_exclude": [
    "module",
    "function",
    "builtin_function_or_method",
    "instance",
    "_Feature"
   ],
   "window_display": false
  }
 },
 "nbformat": 4,
 "nbformat_minor": 4
}
