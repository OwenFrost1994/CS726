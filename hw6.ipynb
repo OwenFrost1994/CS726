{
 "cells": [
  {
   "cell_type": "code",
   "execution_count": 1,
   "metadata": {},
   "outputs": [],
   "source": [
    "import numpy as np\n",
    "from objg import objg\n",
    "import math"
   ]
  },
  {
   "cell_type": "code",
   "execution_count": 2,
   "metadata": {},
   "outputs": [
    {
     "data": {
      "text/plain": [
       "(array([[102., 100., 100., 100.],\n",
       "        [100., 120., 100., 100.],\n",
       "        [100., 100., 102., 100.],\n",
       "        [100., 100., 100., 120.]]),)"
      ]
     },
     "execution_count": 2,
     "metadata": {},
     "output_type": "execute_result"
    }
   ],
   "source": [
    "objg(np.array([0, 0, 0, 0]), 4)"
   ]
  },
  {
   "cell_type": "code",
   "execution_count": 3,
   "metadata": {},
   "outputs": [],
   "source": [
    "import numpy as np\n",
    "import math\n",
    "import globals\n",
    "def StepSize(fun, x, d, alfa, params):\n",
    "    # fun a pointer to a function (such as obja, objb, objc)\n",
    "    # x a dictionary that on input has x['p'] set to the starting point values x = {'p': [-1.2, 1.0]}\n",
    "    # and x['f'] and x['g'] set to the function and gradient values respectively.\n",
    "    # d a vector containing the search direction\n",
    "    # alfa the initial value of the step length\n",
    "    # params a dictionary containing parameter values for the routine\n",
    "    # params = {'ftol': 0.1,'gtol': 0.7,'xtol': 1e-6,: 100};\n",
    "    #     Note that ftol and gtol were referred to as c1 and c2 in lectures. Return values are a\n",
    "    #     dictionary inform that contains information about the run ('iter', 'status') and a new\n",
    "    #     dictionary x containing the final solution values and function and gradient at that point.\n",
    "    \n",
    "    alphaL = 0\n",
    "    alphaR = 1000\n",
    "    xf = fun(x['p'], 1)[0]\n",
    "    xg = fun(x['p'], 2)[0]\n",
    "    \n",
    "    for itera in range(params['maxit']):\n",
    "        fi_k_t = fun(x['p'] + alfa * d, 1)[0]\n",
    "        \n",
    "        if fi_k_t > (xf + params['ftol'] * alfa * xg.dot(d)):\n",
    "            \n",
    "            alphaR = alfa\n",
    "            alfa = (alphaL + alphaR) / 2\n",
    "            if abs(alphaL - alphaR) < params['xtol']:\n",
    "                alpha_s = 1000\n",
    "                status = 'ERROR'\n",
    "                x_p = x['p'] + alpha_s * d\n",
    "                x_n = {'p': x_p}\n",
    "                #print(alphaL, alphaR, abs(alphaL - alphaR), itera)\n",
    "                return x_n, alpha_s, itera, status\n",
    "            else:\n",
    "                continue\n",
    "        else:\n",
    "            fi_k_t_d = fun(x['p'] + alfa * d, 2)[0].dot(d)\n",
    "            if fi_k_t_d >= params['gtol'] * xg.dot(d):\n",
    "                alpha_s = alfa\n",
    "                status = 'OK'\n",
    "                x_p = x['p'] + alpha_s * d\n",
    "                x_n = {'p': x_p}\n",
    "                return x_n, alpha_s, itera, status\n",
    "            else:\n",
    "                alpha_L = alfa\n",
    "            if alphaR > 500:\n",
    "                alfa = 2 * alpha_L\n",
    "                continue\n",
    "    if itera == (params['maxit']-1):\n",
    "        alpha_s = 1000\n",
    "        status = 'ERROR'\n",
    "        x_p = x['p'] + alpha_s * d\n",
    "        x_n = {'p': x_p}\n",
    "        return x_n, alpha_s, itera, status"
   ]
  },
  {
   "cell_type": "code",
   "execution_count": 4,
   "metadata": {},
   "outputs": [],
   "source": [
    "def SteepDescent(fun, x, sdparams):\n",
    "    # sdparams = {'maxit': 1000,'toler': 1.0e-4}\n",
    "    # The output inform is a dictionary containing two fields, status is 1 if the gradient tolerance\n",
    "    # was achieved and 0 if not, iter is the number of steps taken and x is the solution structure,\n",
    "    # with point, function and gradient evaluations at the solution point).\n",
    "    Status = 0\n",
    "    alpha = 1\n",
    "    params = {'ftol': 0.1,'gtol': 0.7,'xtol': 1e-6,'maxit': 100}\n",
    "    \n",
    "    for Itera in range(sdparams['maxit']):\n",
    "        d = -fun(x['p'], 2)[0]\n",
    "        #print('Iternation-xk-dk-alpha:\\n',Itera, x, d, alpha)\n",
    "        x_n, alpha_s, itera, status = StepSize(fun, x, d, alpha, params)\n",
    "        if status == 'ERROR':\n",
    "            Status = 0\n",
    "            #print(alpha_s, x_n)\n",
    "            return x_n, Itera + 1, Status\n",
    "        else:\n",
    "            if np.linalg.norm(x['p']-x_n['p']) <= sdparams['toler'] or np.linalg.norm(fun(x_n['p'], 2)[0]) <= 1E-5:\n",
    "                Status = 1\n",
    "                return x_n, Itera + 1, Status\n",
    "            else:\n",
    "                xg = fun(x['p'], 2)[0]\n",
    "                x_ng = fun(x_n['p'], 2)[0]\n",
    "                #print(alpha_s, x_n, x['g'].dot(d)*alpha/(x_n['g'].dot(-x_n['g'])))\n",
    "                alpha = max(10 * params['xtol'], xg.dot(d)*alpha_s/(x_ng.dot(-x_ng)))\n",
    "                x = x_n\n",
    "    \n",
    "    if Itera == sdparams['maxit']-1:\n",
    "        Status = 0\n",
    "        return x_n, Itera + 1, Status"
   ]
  },
  {
   "cell_type": "code",
   "execution_count": 5,
   "metadata": {},
   "outputs": [],
   "source": [
    "import scipy\n",
    "from scipy.sparse.linalg import spsolve\n",
    "globals.initialize()\n",
    "\n",
    "def Newton(fun, x, nparams):\n",
    "    # sdparams = {'maxit': 1000,'toler': 1.0e-4, 'method': 'direct'}\n",
    "    # The output inform is a dictionary containing two fields, status is 1 if the gradient tolerance\n",
    "    # was achieved and 0 if not, iter is the number of steps taken and x is the solution structure,\n",
    "    # with point, function and gradient evaluations at the solution point).\n",
    "    Status = 0\n",
    "    alpha = 1\n",
    "    params = {'ftol': 1E-4,'gtol': 0.7,'xtol': 1e-6,'maxit': 100}\n",
    "    \n",
    "    for Itera in range(nparams['maxit']):\n",
    "        funH = fun(x['p'], 4)[0] # Hessian\n",
    "        fung = fun(x['p'], 2)[0] # Gradient\n",
    "        #print(funH, fung)\n",
    "        if nparams['method'] == 'direct':\n",
    "            if type(funH).__name__ == 'csr_matrix':\n",
    "                d = -spsolve(funH,fung)\n",
    "            else:\n",
    "                d = -np.linalg.solve(funH,fung)\n",
    "            if d.dot(fung) >= 0:\n",
    "                D = np.abs(funH.diagonal())\n",
    "                D[D < 0.01] = 0.01\n",
    "                D = np.diag(1./D)\n",
    "                d = -D.dot(fung)\n",
    "        if nparams['method'] == 'pert':\n",
    "            D = np.abs(funH.diagonal())\n",
    "            D[D < 0.01] = 0.01\n",
    "            D = np.diag(1./D)\n",
    "            d = -D.dot(fung)\n",
    "            #print(D, fung, d)\n",
    "            numFact = 0\n",
    "            while d.dot(fung) >= 0:\n",
    "                funHn = funH + math.pow(2, numFact)*np.eye(funH.shape[0])\n",
    "                numFact += 1\n",
    "                D = np.abs(funHn.diagonal())\n",
    "                D[D < 0.01] = 0.01\n",
    "                D = np.diag(1./D)\n",
    "                d = -D.dot(fung)\n",
    "        #print('Iternation-xk-dk-alpha:\\n',Itera, x, d, alpha)\n",
    "        x_n, alpha_s, itera, status = StepSize(fun, x, d, alpha, params)\n",
    "        if status == 'ERROR':\n",
    "            Status = 0\n",
    "            return x_n, Itera + 1, Status\n",
    "        else:\n",
    "            if np.linalg.norm(x['p']-x_n['p']) <= nparams['toler'] or np.linalg.norm(fun(x_n['p'], 2)[0]) <= 1E-5:\n",
    "                Status = 1\n",
    "                return x_n, Itera + 1, Status\n",
    "            else:\n",
    "                xg = fun(x['p'], 2)[0]\n",
    "                x_ng = fun(x_n['p'], 2)[0]\n",
    "                alpha = max(10 * params['xtol'], xg.dot(d)*alpha_s/(x_ng.dot(-x_ng)))\n",
    "                x = x_n\n",
    "        \n",
    "    if Itera == nparams['maxit']-1:\n",
    "        Status = 0\n",
    "        return x_n, Itera + 1, Status"
   ]
  },
  {
   "cell_type": "code",
   "execution_count": 6,
   "metadata": {},
   "outputs": [],
   "source": [
    "def BFGS(fun, x, sdparams):\n",
    "    # sdparams = {'maxit': 1000,'toler': 1.0e-4}\n",
    "    # The output inform is a dictionary containing two fields, status is 1 if the gradient tolerance\n",
    "    # was achieved and 0 if not, iter is the number of steps taken and x is the solution structure,\n",
    "    # with point, function and gradient evaluations at the solution point).\n",
    "    Status = 0\n",
    "    alpha = 1\n",
    "    params = {'ftol': 0.1,'gtol': 0.7,'xtol': 1e-6,'maxit': 100}\n",
    "    B = fun(x['p'], 4)[0] # Hessian\n",
    "    x_n = x\n",
    "    for Itera in range(sdparams['maxit']):\n",
    "        fung = fun(x['p'], 2)[0] # Gradient\n",
    "        if Itera == 0:\n",
    "            s = alpha * fung\n",
    "            x_n['p'] = x['p'] + s\n",
    "            fung_n = fun(x_n['p'], 2)[0]\n",
    "            y = fung_n - fung\n",
    "            D = (s.dot(y)/(y.dot(y))) * np.eye(x['p'].shape[0])\n",
    "            d = -D.dot(fung)\n",
    "        else:\n",
    "            if type(B).__name__ == 'csr_matrix':\n",
    "                d = spsolve(B,fung)\n",
    "            else:\n",
    "                d = -np.linalg.solve(B,fung)\n",
    "        if d.dot(fung) >= 0:\n",
    "            D = np.abs(fun(x['p'], 4)[0].diagonal())\n",
    "            D[D < 0.01] = 0.01\n",
    "            D = np.diag(1./D)\n",
    "            d = -D.dot(fung)\n",
    "        #print('Iternation-xk-dk-alpha:\\n',Itera, x, d, alpha)\n",
    "        x_n, alpha_s, itera, status = StepSize(fun, x, d, alpha, params)\n",
    "        if status == 'ERROR':\n",
    "            Status = 0\n",
    "            return x_n, Itera + 1, Status\n",
    "        else:\n",
    "            s = alpha_s * d\n",
    "            x_n['p'] = x['p'] + s\n",
    "            if np.linalg.norm(x['p']-x_n['p']) <= sdparams['toler']:\n",
    "                Status = 1\n",
    "                return x_n, Itera + 1, Status\n",
    "            else:\n",
    "                f = fun(x_n['p'], 1)[0]\n",
    "                fung_n = fun(x_n['p'], 2)[0]\n",
    "                if  np.linalg.norm(fung_n, ord = np.inf)/min(1000, 1 + abs(f)) <= 1E-4:\n",
    "                    Status = 1\n",
    "                    return x_n, Itera + 1, Status\n",
    "                else:\n",
    "                    y = fung_n - fung\n",
    "                    B_n = B + np.outer(y,y)/(y.dot(s)) - (B.dot(np.outer(s,s).dot(B)))/(s.dot(B.dot(s)))\n",
    "                    alpha = max(10 * params['xtol'], fung.dot(d)*alpha_s/(fung_n.dot(-fung_n)))\n",
    "                    B = B_n\n",
    "                    x = x_n\n",
    "        \n",
    "    if Itera == sdparams['maxit']-1:\n",
    "        Status = 0\n",
    "        return x_n, Itera + 1, Status"
   ]
  },
  {
   "cell_type": "code",
   "execution_count": 7,
   "metadata": {},
   "outputs": [],
   "source": [
    "import globals\n",
    "\n",
    "globals.initialize()\n",
    "\n",
    "def objt(x,mode):\n",
    "    z = ()\n",
    "    if mode & 1:\n",
    "        globals.numf += 1\n",
    "        z += (x[0]**2 + math.exp(x[0]),)\n",
    "    if mode & 2:\n",
    "        globals.numg += 1\n",
    "        z += (np.array([2*x[0] + math.exp(x[0])]),)\n",
    "    if mode & 4:\n",
    "        globals.numH += 1\n",
    "        z += (np.array([2 + math.exp(x[0])]),)\n",
    "    return z"
   ]
  },
  {
   "cell_type": "markdown",
   "metadata": {},
   "source": [
    "## Test Steepest Descent method"
   ]
  },
  {
   "cell_type": "code",
   "execution_count": 8,
   "metadata": {},
   "outputs": [
    {
     "data": {
      "text/plain": [
       "({'p': array([-0.35172651])}, 8, 1)"
      ]
     },
     "execution_count": 8,
     "metadata": {},
     "output_type": "execute_result"
    }
   ],
   "source": [
    "sdparams = {'maxit': 1000,'toler': 1.0e-4}\n",
    "x_p = np.array([1.0])\n",
    "x = {'p': x_p}\n",
    "SteepDescent(objt,x,sdparams)"
   ]
  },
  {
   "cell_type": "code",
   "execution_count": 9,
   "metadata": {},
   "outputs": [
    {
     "data": {
      "text/plain": [
       "({'p': array([-0.49994395,  0.49998335])}, 20, 1)"
      ]
     },
     "execution_count": 9,
     "metadata": {},
     "output_type": "execute_result"
    }
   ],
   "source": [
    "from obja import obja\n",
    "sdparams = {'maxit': 1000,'toler': 1.0e-4}\n",
    "x_p = np.array([-1.2, 1])\n",
    "x = {'p': x_p}\n",
    "SteepDescent(obja,x,sdparams)"
   ]
  },
  {
   "cell_type": "code",
   "execution_count": 10,
   "metadata": {},
   "outputs": [
    {
     "data": {
      "text/plain": [
       "({'p': array([ 0.58370683, -0.03456573])}, 175, 1)"
      ]
     },
     "execution_count": 10,
     "metadata": {},
     "output_type": "execute_result"
    }
   ],
   "source": [
    "from objb import objb\n",
    "sdparams = {'maxit': 1000,'toler': 1.0e-4}\n",
    "x_p = np.array([-1.2, 1])\n",
    "x = {'p': x_p}\n",
    "SteepDescent(objb,x,sdparams)"
   ]
  },
  {
   "cell_type": "code",
   "execution_count": 11,
   "metadata": {},
   "outputs": [
    {
     "data": {
      "text/plain": [
       "({'p': array([0.96347374, 0.92817193])}, 1231, 1)"
      ]
     },
     "execution_count": 11,
     "metadata": {},
     "output_type": "execute_result"
    }
   ],
   "source": [
    "from objc import objc\n",
    "sdparams = {'maxit': 2000,'toler': 1.0e-4}\n",
    "x_p = np.array([-1.2, 1])\n",
    "x = {'p': x_p}\n",
    "SteepDescent(objc,x,sdparams)"
   ]
  },
  {
   "cell_type": "code",
   "execution_count": 12,
   "metadata": {},
   "outputs": [
    {
     "data": {
      "text/plain": [
       "({'p': array([ 1.50486039, -2.24730506])}, 2298, 0)"
      ]
     },
     "execution_count": 12,
     "metadata": {},
     "output_type": "execute_result"
    }
   ],
   "source": [
    "from objd import objd\n",
    "sdparams = {'maxit': 3000,'toler': 1.0e-4}\n",
    "x_p = np.array([-1.2, 1])\n",
    "x = {'p': x_p}\n",
    "SteepDescent(objd,x,sdparams)"
   ]
  },
  {
   "cell_type": "code",
   "execution_count": 13,
   "metadata": {},
   "outputs": [
    {
     "data": {
      "text/plain": [
       "({'p': array([-1.55072939,  2.52637133])}, 56, 1)"
      ]
     },
     "execution_count": 13,
     "metadata": {},
     "output_type": "execute_result"
    }
   ],
   "source": [
    "SteepDescent(objg,x,sdparams)"
   ]
  },
  {
   "cell_type": "markdown",
   "metadata": {},
   "source": [
    "## Test Newton method"
   ]
  },
  {
   "cell_type": "code",
   "execution_count": 14,
   "metadata": {},
   "outputs": [
    {
     "data": {
      "text/plain": [
       "({'p': array([-0.5,  0.5])}, 1, 1)"
      ]
     },
     "execution_count": 14,
     "metadata": {},
     "output_type": "execute_result"
    }
   ],
   "source": [
    "nparams = {'maxit': 1000,'toler': 1.0e-4, 'method': 'direct'}\n",
    "x_p = np.array([-1.2, 1])\n",
    "x = {'p': x_p}\n",
    "Newton(obja,x,nparams)"
   ]
  },
  {
   "cell_type": "code",
   "execution_count": 15,
   "metadata": {},
   "outputs": [
    {
     "data": {
      "text/plain": [
       "({'p': array([-0.5,  0.5])}, 1, 1)"
      ]
     },
     "execution_count": 15,
     "metadata": {},
     "output_type": "execute_result"
    }
   ],
   "source": [
    "nparams = {'maxit': 1000,'toler': 1.0e-4, 'method': 'pert'}\n",
    "x_p = np.array([-1.2, 1])\n",
    "x = {'p': x_p}\n",
    "Newton(obja,x,nparams)"
   ]
  },
  {
   "cell_type": "code",
   "execution_count": 16,
   "metadata": {},
   "outputs": [
    {
     "data": {
      "text/plain": [
       "({'p': array([ 0.58666667, -0.03466667])}, 1, 1)"
      ]
     },
     "execution_count": 16,
     "metadata": {},
     "output_type": "execute_result"
    }
   ],
   "source": [
    "nparams = {'maxit': 1000,'toler': 1.0e-4, 'method': 'direct'}\n",
    "x_p = np.array([-1.2, 1])\n",
    "x = {'p': x_p}\n",
    "Newton(objb,x,nparams)"
   ]
  },
  {
   "cell_type": "code",
   "execution_count": 17,
   "metadata": {},
   "outputs": [
    {
     "data": {
      "text/plain": [
       "({'p': array([ 0.58659304, -0.0346593 ])}, 19, 1)"
      ]
     },
     "execution_count": 17,
     "metadata": {},
     "output_type": "execute_result"
    }
   ],
   "source": [
    "nparams = {'maxit': 1000,'toler': 1.0e-4, 'method': 'pert'}\n",
    "x_p = np.array([-1.2, 1])\n",
    "x = {'p': x_p}\n",
    "Newton(objb,x,nparams)"
   ]
  },
  {
   "cell_type": "code",
   "execution_count": 18,
   "metadata": {},
   "outputs": [
    {
     "data": {
      "text/plain": [
       "({'p': array([0.99997229, 0.99994343])}, 39, 1)"
      ]
     },
     "execution_count": 18,
     "metadata": {},
     "output_type": "execute_result"
    }
   ],
   "source": [
    "nparams = {'maxit': 1000,'toler': 1.0e-4, 'method': 'direct'}\n",
    "x_p = np.array([-1.2, 1])\n",
    "x = {'p': x_p}\n",
    "Newton(objc,x,nparams)"
   ]
  },
  {
   "cell_type": "code",
   "execution_count": 19,
   "metadata": {},
   "outputs": [
    {
     "data": {
      "text/plain": [
       "({'p': array([ 0.55016334, -2.51787175])}, 67, 0)"
      ]
     },
     "execution_count": 19,
     "metadata": {},
     "output_type": "execute_result"
    }
   ],
   "source": [
    "nparams = {'maxit': 1000,'toler': 1.0e-4, 'method': 'pert'}\n",
    "x_p = np.array([-2, 1])\n",
    "x = {'p': x_p}\n",
    "Newton(objc,x,nparams)"
   ]
  },
  {
   "cell_type": "code",
   "execution_count": 20,
   "metadata": {},
   "outputs": [
    {
     "data": {
      "text/plain": [
       "({'p': array([-0.98057268, 14.75334498])}, 128, 0)"
      ]
     },
     "execution_count": 20,
     "metadata": {},
     "output_type": "execute_result"
    }
   ],
   "source": [
    "nparams = {'maxit': 1000,'toler': 1.0e-4, 'method': 'direct'}\n",
    "x_p = np.array([-1.2, 1])\n",
    "x = {'p': x_p}\n",
    "Newton(objd,x,nparams)"
   ]
  },
  {
   "cell_type": "code",
   "execution_count": 21,
   "metadata": {},
   "outputs": [
    {
     "data": {
      "text/plain": [
       "({'p': array([ 0.6552835 , -0.56505306])}, 83, 1)"
      ]
     },
     "execution_count": 21,
     "metadata": {},
     "output_type": "execute_result"
    }
   ],
   "source": [
    "nparams = {'maxit': 1000,'toler': 1.0e-4, 'method': 'pert'}\n",
    "x_p = np.array([-1.2, 1])\n",
    "x = {'p': x_p}\n",
    "Newton(objd,x,nparams)"
   ]
  },
  {
   "cell_type": "code",
   "execution_count": 22,
   "metadata": {},
   "outputs": [
    {
     "data": {
      "text/plain": [
       "({'p': array([0.62682067, 0.37649667])}, 13, 1)"
      ]
     },
     "execution_count": 22,
     "metadata": {},
     "output_type": "execute_result"
    }
   ],
   "source": [
    "nparams = {'maxit': 1000,'toler': 1.0e-4, 'method': 'direct'}\n",
    "x = {'p': np.array([1,1.0])}\n",
    "Newton(objg,x,nparams)"
   ]
  },
  {
   "cell_type": "code",
   "execution_count": 23,
   "metadata": {},
   "outputs": [
    {
     "data": {
      "text/plain": [
       "({'p': array([0.62692943, 0.37637598])}, 18, 1)"
      ]
     },
     "execution_count": 23,
     "metadata": {},
     "output_type": "execute_result"
    }
   ],
   "source": [
    "nparams = {'maxit': 1000,'toler': 1.0e-4, 'method': 'pert'}\n",
    "x = {'p': np.array([1,1.0])}\n",
    "Newton(objg,x,nparams)"
   ]
  },
  {
   "cell_type": "code",
   "execution_count": 24,
   "metadata": {},
   "outputs": [
    {
     "data": {
      "text/plain": [
       "array([[182.,   0.],\n",
       "       [  0., 120.]])"
      ]
     },
     "execution_count": 24,
     "metadata": {},
     "output_type": "execute_result"
    }
   ],
   "source": [
    "funH = objg(x['p'], 4)[0]\n",
    "np.diag(funH.diagonal())"
   ]
  },
  {
   "cell_type": "code",
   "execution_count": 25,
   "metadata": {},
   "outputs": [],
   "source": [
    "funH = np.array([[1,1,2],[0,0.001,3],[2,1,10]])"
   ]
  },
  {
   "cell_type": "code",
   "execution_count": 26,
   "metadata": {},
   "outputs": [
    {
     "data": {
      "text/plain": [
       "array([[  1. ,   0. ,   0. ],\n",
       "       [  0. , 100. ,   0. ],\n",
       "       [  0. ,   0. ,   0.1]])"
      ]
     },
     "execution_count": 26,
     "metadata": {},
     "output_type": "execute_result"
    }
   ],
   "source": [
    "funHdiag = np.abs(funH.diagonal())\n",
    "funHdiag[funHdiag < 0.01] = 0.01\n",
    "np.diag(1./funHdiag)"
   ]
  },
  {
   "cell_type": "markdown",
   "metadata": {},
   "source": [
    "## Test BFGS method"
   ]
  },
  {
   "cell_type": "code",
   "execution_count": 27,
   "metadata": {},
   "outputs": [
    {
     "data": {
      "text/plain": [
       "({'p': array([-0.50003997,  0.5000906 ])}, 19, 1)"
      ]
     },
     "execution_count": 27,
     "metadata": {},
     "output_type": "execute_result"
    }
   ],
   "source": [
    "sdparams = {'maxit': 1000,'toler': 1.0e-4}\n",
    "x_p = np.array([-1.2, 1])\n",
    "x = {'p': x_p}\n",
    "BFGS(obja,x,sdparams)"
   ]
  },
  {
   "cell_type": "code",
   "execution_count": 28,
   "metadata": {},
   "outputs": [
    {
     "data": {
      "text/plain": [
       "({'p': array([ 0.58660808, -0.0346141 ])}, 25, 1)"
      ]
     },
     "execution_count": 28,
     "metadata": {},
     "output_type": "execute_result"
    }
   ],
   "source": [
    "sdparams = {'maxit': 1000,'toler': 1.0e-4}\n",
    "x_p = np.array([-1.2, 1])\n",
    "x = {'p': x_p}\n",
    "BFGS(objb,x,sdparams)"
   ]
  },
  {
   "cell_type": "code",
   "execution_count": 29,
   "metadata": {
    "scrolled": true
   },
   "outputs": [
    {
     "data": {
      "text/plain": [
       "({'p': array([1.00008273, 1.00016157])}, 598, 1)"
      ]
     },
     "execution_count": 29,
     "metadata": {},
     "output_type": "execute_result"
    }
   ],
   "source": [
    "sdparams = {'maxit': 1000,'toler': 1.0e-4}\n",
    "x_p = np.array([1.2, 1])\n",
    "x = {'p': x_p}\n",
    "BFGS(objc,x,sdparams)"
   ]
  },
  {
   "cell_type": "code",
   "execution_count": 30,
   "metadata": {},
   "outputs": [
    {
     "data": {
      "text/plain": [
       "({'p': array([ -611.99355921, -1664.81041485])}, 5, 0)"
      ]
     },
     "execution_count": 30,
     "metadata": {},
     "output_type": "execute_result"
    }
   ],
   "source": [
    "sdparams = {'maxit': 1000,'toler': 1.0e-4}\n",
    "x_p = np.array([2, 1])\n",
    "x = {'p': x_p}\n",
    "BFGS(objd,x,sdparams)"
   ]
  },
  {
   "cell_type": "code",
   "execution_count": 31,
   "metadata": {},
   "outputs": [
    {
     "data": {
      "text/plain": [
       "({'p': array([0.62702132, 0.37633042])}, 49, 1)"
      ]
     },
     "execution_count": 31,
     "metadata": {},
     "output_type": "execute_result"
    }
   ],
   "source": [
    "sdparams = {'maxit': 1000,'toler': 1.0e-4}\n",
    "x_p = np.array([2, 1])\n",
    "x = {'p': x_p}\n",
    "BFGS(objg,x,sdparams)"
   ]
  },
  {
   "cell_type": "code",
   "execution_count": 32,
   "metadata": {},
   "outputs": [],
   "source": [
    "import geodesic\n",
    "import geodesicDense"
   ]
  },
  {
   "cell_type": "code",
   "execution_count": 41,
   "metadata": {},
   "outputs": [
    {
     "data": {
      "text/plain": [
       "<geodesic.geodesic at 0x20a0e1b6670>"
      ]
     },
     "execution_count": 41,
     "metadata": {},
     "output_type": "execute_result"
    }
   ],
   "source": [
    "N = 5\n",
    "x_p = np.random.rand(2*N)\n",
    "geodesic.geodesic(x_p,4)[0]"
   ]
  },
  {
   "cell_type": "code",
   "execution_count": 34,
   "metadata": {},
   "outputs": [
    {
     "ename": "TypeError",
     "evalue": "'geodesic' object is not subscriptable",
     "output_type": "error",
     "traceback": [
      "\u001b[1;31m---------------------------------------------------------------------------\u001b[0m",
      "\u001b[1;31mTypeError\u001b[0m                                 Traceback (most recent call last)",
      "\u001b[1;32m~\\AppData\\Local\\Temp/ipykernel_19140/2976101655.py\u001b[0m in \u001b[0;36m<module>\u001b[1;34m\u001b[0m\n\u001b[1;32m----> 1\u001b[1;33m \u001b[0mnp\u001b[0m\u001b[1;33m.\u001b[0m\u001b[0mlinalg\u001b[0m\u001b[1;33m.\u001b[0m\u001b[0msolve\u001b[0m\u001b[1;33m(\u001b[0m\u001b[0mgeodesic\u001b[0m\u001b[1;33m.\u001b[0m\u001b[0mgeodesic\u001b[0m\u001b[1;33m(\u001b[0m\u001b[0mx_p\u001b[0m\u001b[1;33m,\u001b[0m\u001b[1;36m4\u001b[0m\u001b[1;33m)\u001b[0m\u001b[1;33m[\u001b[0m\u001b[1;36m0\u001b[0m\u001b[1;33m]\u001b[0m\u001b[1;33m.\u001b[0m\u001b[0mtoarray\u001b[0m\u001b[1;33m(\u001b[0m\u001b[1;33m)\u001b[0m\u001b[1;33m,\u001b[0m\u001b[0mgeodesic\u001b[0m\u001b[1;33m.\u001b[0m\u001b[0mgeodesic\u001b[0m\u001b[1;33m(\u001b[0m\u001b[0mx_p\u001b[0m\u001b[1;33m,\u001b[0m\u001b[1;36m2\u001b[0m\u001b[1;33m)\u001b[0m\u001b[1;33m[\u001b[0m\u001b[1;36m0\u001b[0m\u001b[1;33m]\u001b[0m\u001b[1;33m)\u001b[0m\u001b[1;33m\u001b[0m\u001b[1;33m\u001b[0m\u001b[0m\n\u001b[0m",
      "\u001b[1;31mTypeError\u001b[0m: 'geodesic' object is not subscriptable"
     ]
    }
   ],
   "source": [
    "np.linalg.solve(geodesic.geodesic(x_p,4)[0].toarray(),geodesic.geodesic(x_p,2)[0])"
   ]
  },
  {
   "cell_type": "code",
   "execution_count": 35,
   "metadata": {},
   "outputs": [],
   "source": [
    "N = 5\n",
    "x_p = np.random.rand(2*N)\n",
    "x = {'p': x_p}"
   ]
  },
  {
   "cell_type": "code",
   "execution_count": 36,
   "metadata": {
    "scrolled": true
   },
   "outputs": [
    {
     "ename": "TypeError",
     "evalue": "'geodesic' object is not subscriptable",
     "output_type": "error",
     "traceback": [
      "\u001b[1;31m---------------------------------------------------------------------------\u001b[0m",
      "\u001b[1;31mTypeError\u001b[0m                                 Traceback (most recent call last)",
      "\u001b[1;32m~\\AppData\\Local\\Temp/ipykernel_19140/3406422503.py\u001b[0m in \u001b[0;36m<module>\u001b[1;34m\u001b[0m\n\u001b[0;32m      1\u001b[0m \u001b[0mnparams\u001b[0m \u001b[1;33m=\u001b[0m \u001b[1;33m{\u001b[0m\u001b[1;34m'maxit'\u001b[0m\u001b[1;33m:\u001b[0m \u001b[1;36m1000\u001b[0m\u001b[1;33m,\u001b[0m\u001b[1;34m'toler'\u001b[0m\u001b[1;33m:\u001b[0m \u001b[1;36m1.0e-4\u001b[0m\u001b[1;33m,\u001b[0m \u001b[1;34m'method'\u001b[0m\u001b[1;33m:\u001b[0m \u001b[1;34m'direct'\u001b[0m\u001b[1;33m}\u001b[0m\u001b[1;33m\u001b[0m\u001b[1;33m\u001b[0m\u001b[0m\n\u001b[1;32m----> 2\u001b[1;33m \u001b[0mx_n\u001b[0m\u001b[1;33m,\u001b[0m \u001b[0mItera_s\u001b[0m\u001b[1;33m,\u001b[0m \u001b[0mStatus\u001b[0m \u001b[1;33m=\u001b[0m \u001b[0mNewton\u001b[0m\u001b[1;33m(\u001b[0m\u001b[0mgeodesic\u001b[0m\u001b[1;33m.\u001b[0m\u001b[0mgeodesic\u001b[0m\u001b[1;33m,\u001b[0m\u001b[0mx\u001b[0m\u001b[1;33m,\u001b[0m\u001b[0mnparams\u001b[0m\u001b[1;33m)\u001b[0m\u001b[1;33m\u001b[0m\u001b[1;33m\u001b[0m\u001b[0m\n\u001b[0m\u001b[0;32m      3\u001b[0m \u001b[0mx_n\u001b[0m\u001b[1;33m,\u001b[0m \u001b[0mItera_s\u001b[0m\u001b[1;33m,\u001b[0m \u001b[0mStatus\u001b[0m\u001b[1;33m\u001b[0m\u001b[1;33m\u001b[0m\u001b[0m\n",
      "\u001b[1;32m~\\AppData\\Local\\Temp/ipykernel_19140/737971171.py\u001b[0m in \u001b[0;36mNewton\u001b[1;34m(fun, x, nparams)\u001b[0m\n\u001b[0;32m     13\u001b[0m \u001b[1;33m\u001b[0m\u001b[0m\n\u001b[0;32m     14\u001b[0m     \u001b[1;32mfor\u001b[0m \u001b[0mItera\u001b[0m \u001b[1;32min\u001b[0m \u001b[0mrange\u001b[0m\u001b[1;33m(\u001b[0m\u001b[0mnparams\u001b[0m\u001b[1;33m[\u001b[0m\u001b[1;34m'maxit'\u001b[0m\u001b[1;33m]\u001b[0m\u001b[1;33m)\u001b[0m\u001b[1;33m:\u001b[0m\u001b[1;33m\u001b[0m\u001b[1;33m\u001b[0m\u001b[0m\n\u001b[1;32m---> 15\u001b[1;33m         \u001b[0mfunH\u001b[0m \u001b[1;33m=\u001b[0m \u001b[0mfun\u001b[0m\u001b[1;33m(\u001b[0m\u001b[0mx\u001b[0m\u001b[1;33m[\u001b[0m\u001b[1;34m'p'\u001b[0m\u001b[1;33m]\u001b[0m\u001b[1;33m,\u001b[0m \u001b[1;36m4\u001b[0m\u001b[1;33m)\u001b[0m\u001b[1;33m[\u001b[0m\u001b[1;36m0\u001b[0m\u001b[1;33m]\u001b[0m \u001b[1;31m# Hessian\u001b[0m\u001b[1;33m\u001b[0m\u001b[1;33m\u001b[0m\u001b[0m\n\u001b[0m\u001b[0;32m     16\u001b[0m         \u001b[0mfung\u001b[0m \u001b[1;33m=\u001b[0m \u001b[0mfun\u001b[0m\u001b[1;33m(\u001b[0m\u001b[0mx\u001b[0m\u001b[1;33m[\u001b[0m\u001b[1;34m'p'\u001b[0m\u001b[1;33m]\u001b[0m\u001b[1;33m,\u001b[0m \u001b[1;36m2\u001b[0m\u001b[1;33m)\u001b[0m\u001b[1;33m[\u001b[0m\u001b[1;36m0\u001b[0m\u001b[1;33m]\u001b[0m \u001b[1;31m# Gradient\u001b[0m\u001b[1;33m\u001b[0m\u001b[1;33m\u001b[0m\u001b[0m\n\u001b[0;32m     17\u001b[0m         \u001b[1;31m#print(funH, fung)\u001b[0m\u001b[1;33m\u001b[0m\u001b[1;33m\u001b[0m\u001b[1;33m\u001b[0m\u001b[0m\n",
      "\u001b[1;31mTypeError\u001b[0m: 'geodesic' object is not subscriptable"
     ]
    }
   ],
   "source": [
    "nparams = {'maxit': 1000,'toler': 1.0e-4, 'method': 'direct'}\n",
    "x_n, Itera_s, Status = Newton(geodesic.geodesic,x,nparams)\n",
    "x_n, Itera_s, Status"
   ]
  },
  {
   "cell_type": "code",
   "execution_count": 37,
   "metadata": {},
   "outputs": [
    {
     "ename": "TypeError",
     "evalue": "'geodesic' object is not subscriptable",
     "output_type": "error",
     "traceback": [
      "\u001b[1;31m---------------------------------------------------------------------------\u001b[0m",
      "\u001b[1;31mTypeError\u001b[0m                                 Traceback (most recent call last)",
      "\u001b[1;32m~\\AppData\\Local\\Temp/ipykernel_19140/3859039750.py\u001b[0m in \u001b[0;36m<module>\u001b[1;34m\u001b[0m\n\u001b[0;32m      1\u001b[0m \u001b[0mnparams\u001b[0m \u001b[1;33m=\u001b[0m \u001b[1;33m{\u001b[0m\u001b[1;34m'maxit'\u001b[0m\u001b[1;33m:\u001b[0m \u001b[1;36m1000\u001b[0m\u001b[1;33m,\u001b[0m\u001b[1;34m'toler'\u001b[0m\u001b[1;33m:\u001b[0m \u001b[1;36m1.0e-4\u001b[0m\u001b[1;33m,\u001b[0m \u001b[1;34m'method'\u001b[0m\u001b[1;33m:\u001b[0m \u001b[1;34m'pert'\u001b[0m\u001b[1;33m}\u001b[0m\u001b[1;33m\u001b[0m\u001b[1;33m\u001b[0m\u001b[0m\n\u001b[1;32m----> 2\u001b[1;33m \u001b[0mx_n\u001b[0m\u001b[1;33m,\u001b[0m \u001b[0mItera_s\u001b[0m\u001b[1;33m,\u001b[0m \u001b[0mStatus\u001b[0m \u001b[1;33m=\u001b[0m \u001b[0mNewton\u001b[0m\u001b[1;33m(\u001b[0m\u001b[0mgeodesic\u001b[0m\u001b[1;33m.\u001b[0m\u001b[0mgeodesic\u001b[0m\u001b[1;33m,\u001b[0m\u001b[0mx\u001b[0m\u001b[1;33m,\u001b[0m\u001b[0mnparams\u001b[0m\u001b[1;33m)\u001b[0m\u001b[1;33m\u001b[0m\u001b[1;33m\u001b[0m\u001b[0m\n\u001b[0m\u001b[0;32m      3\u001b[0m \u001b[0mx_n\u001b[0m\u001b[1;33m,\u001b[0m \u001b[0mItera_s\u001b[0m\u001b[1;33m,\u001b[0m \u001b[0mStatus\u001b[0m\u001b[1;33m\u001b[0m\u001b[1;33m\u001b[0m\u001b[0m\n",
      "\u001b[1;32m~\\AppData\\Local\\Temp/ipykernel_19140/737971171.py\u001b[0m in \u001b[0;36mNewton\u001b[1;34m(fun, x, nparams)\u001b[0m\n\u001b[0;32m     13\u001b[0m \u001b[1;33m\u001b[0m\u001b[0m\n\u001b[0;32m     14\u001b[0m     \u001b[1;32mfor\u001b[0m \u001b[0mItera\u001b[0m \u001b[1;32min\u001b[0m \u001b[0mrange\u001b[0m\u001b[1;33m(\u001b[0m\u001b[0mnparams\u001b[0m\u001b[1;33m[\u001b[0m\u001b[1;34m'maxit'\u001b[0m\u001b[1;33m]\u001b[0m\u001b[1;33m)\u001b[0m\u001b[1;33m:\u001b[0m\u001b[1;33m\u001b[0m\u001b[1;33m\u001b[0m\u001b[0m\n\u001b[1;32m---> 15\u001b[1;33m         \u001b[0mfunH\u001b[0m \u001b[1;33m=\u001b[0m \u001b[0mfun\u001b[0m\u001b[1;33m(\u001b[0m\u001b[0mx\u001b[0m\u001b[1;33m[\u001b[0m\u001b[1;34m'p'\u001b[0m\u001b[1;33m]\u001b[0m\u001b[1;33m,\u001b[0m \u001b[1;36m4\u001b[0m\u001b[1;33m)\u001b[0m\u001b[1;33m[\u001b[0m\u001b[1;36m0\u001b[0m\u001b[1;33m]\u001b[0m \u001b[1;31m# Hessian\u001b[0m\u001b[1;33m\u001b[0m\u001b[1;33m\u001b[0m\u001b[0m\n\u001b[0m\u001b[0;32m     16\u001b[0m         \u001b[0mfung\u001b[0m \u001b[1;33m=\u001b[0m \u001b[0mfun\u001b[0m\u001b[1;33m(\u001b[0m\u001b[0mx\u001b[0m\u001b[1;33m[\u001b[0m\u001b[1;34m'p'\u001b[0m\u001b[1;33m]\u001b[0m\u001b[1;33m,\u001b[0m \u001b[1;36m2\u001b[0m\u001b[1;33m)\u001b[0m\u001b[1;33m[\u001b[0m\u001b[1;36m0\u001b[0m\u001b[1;33m]\u001b[0m \u001b[1;31m# Gradient\u001b[0m\u001b[1;33m\u001b[0m\u001b[1;33m\u001b[0m\u001b[0m\n\u001b[0;32m     17\u001b[0m         \u001b[1;31m#print(funH, fung)\u001b[0m\u001b[1;33m\u001b[0m\u001b[1;33m\u001b[0m\u001b[1;33m\u001b[0m\u001b[0m\n",
      "\u001b[1;31mTypeError\u001b[0m: 'geodesic' object is not subscriptable"
     ]
    }
   ],
   "source": [
    "nparams = {'maxit': 1000,'toler': 1.0e-4, 'method': 'pert'}\n",
    "x_n, Itera_s, Status = Newton(geodesic.geodesic,x,nparams)\n",
    "x_n, Itera_s, Status"
   ]
  },
  {
   "cell_type": "code",
   "execution_count": 38,
   "metadata": {
    "scrolled": false
   },
   "outputs": [
    {
     "data": {
      "text/plain": [
       "({'p': array([-0.66971076, -0.66971105, -0.33942267, -0.33942281, -0.00913443,\n",
       "         -0.0091346 ,  0.19535732,  0.19535719,  0.59758145,  0.59758138])},\n",
       " 13,\n",
       " 1)"
      ]
     },
     "execution_count": 38,
     "metadata": {},
     "output_type": "execute_result"
    }
   ],
   "source": [
    "nparams = {'maxit': 1000,'toler': 1.0e-4, 'method': 'direct'}\n",
    "x_n, Itera_s, Status = Newton(geodesicDense.geodesic,x,nparams)\n",
    "x_n, Itera_s, Status"
   ]
  },
  {
   "cell_type": "code",
   "execution_count": 39,
   "metadata": {},
   "outputs": [
    {
     "data": {
      "text/plain": [
       "({'p': array([-0.61936602, -0.62991529, -0.23875157, -0.25988886,  0.14177257,\n",
       "          0.11050059,  0.42057247,  0.3991616 ,  0.71031309,  0.6996221 ])},\n",
       " 80,\n",
       " 1)"
      ]
     },
     "execution_count": 39,
     "metadata": {},
     "output_type": "execute_result"
    }
   ],
   "source": [
    "nparams = {'maxit': 1000,'toler': 1.0e-4, 'method': 'pert'}\n",
    "x_n, Itera_s, Status = Newton(geodesicDense.geodesic,x,nparams)\n",
    "x_n, Itera_s, Status"
   ]
  },
  {
   "cell_type": "code",
   "execution_count": 40,
   "metadata": {},
   "outputs": [
    {
     "data": {
      "text/plain": [
       "array([5.52897708e-01, 1.74859679e-01, 8.40139789e-01, 5.16996157e-01,\n",
       "       5.07893072e-01, 6.44009549e-01, 1.30375255e-01, 1.70548966e-01,\n",
       "       7.33044457e-01, 9.39112019e-01, 2.09283511e-01, 9.76450497e-01,\n",
       "       9.23161126e-01, 9.89419681e-01, 1.47414223e-01, 2.88082591e-02,\n",
       "       8.23616372e-01, 4.48501846e-01, 5.28246624e-01, 7.25691061e-01,\n",
       "       2.60686557e-01, 7.60519463e-01, 3.92393049e-01, 5.58277816e-01,\n",
       "       4.98707447e-01, 3.07164047e-01, 1.95149197e-01, 8.98113065e-01,\n",
       "       3.51248607e-01, 2.08573539e-01, 2.93778480e-01, 7.63353620e-01,\n",
       "       2.66443161e-01, 7.95664428e-01, 8.42779395e-01, 8.47953416e-01,\n",
       "       7.48247610e-01, 4.07381978e-01, 2.10973426e-01, 3.11451924e-02,\n",
       "       1.65299228e-01, 3.96367719e-01, 1.35390072e-01, 5.94946137e-01,\n",
       "       8.92162584e-02, 9.30033369e-01, 4.70023668e-01, 3.64650436e-01,\n",
       "       2.86612897e-01, 7.50946750e-04, 5.49124704e-01, 5.01233378e-01,\n",
       "       4.62769040e-01, 2.87133699e-01, 9.86012464e-01, 9.71895213e-01,\n",
       "       9.54482090e-01, 1.60530038e-01, 1.35241303e-01, 1.76230573e-02,\n",
       "       3.26536208e-02, 2.99869019e-01, 5.87875665e-01, 4.17040360e-02,\n",
       "       6.85114829e-01, 1.13602429e-01, 6.88852205e-01, 3.11796583e-01,\n",
       "       2.46176328e-01, 9.48554389e-01, 6.24712456e-01, 3.49290625e-01,\n",
       "       6.20380427e-01, 7.96935222e-01, 6.94341777e-01, 6.56356994e-01,\n",
       "       1.34394016e-01, 9.38755675e-01, 2.81611754e-03, 8.86760367e-01,\n",
       "       2.96316240e-01, 4.04604183e-01, 1.65726373e-01, 3.40653879e-01,\n",
       "       5.87333229e-01, 9.20846718e-02, 2.73097148e-01, 3.64812740e-01,\n",
       "       6.90574406e-01, 6.64971550e-01, 1.94668703e-01, 3.48268440e-01,\n",
       "       3.95378952e-01, 3.82088523e-01, 3.91337428e-01, 8.28066017e-01,\n",
       "       8.88652662e-01, 6.79929510e-02, 6.11483614e-01, 1.26436887e-01,\n",
       "       3.01506704e-01, 4.35194523e-01, 5.65754525e-01, 9.93509600e-01,\n",
       "       9.48809960e-01, 8.92358392e-01, 4.32651762e-01, 1.03724548e-01,\n",
       "       6.24121570e-01, 4.63329232e-01, 5.11032985e-01, 2.09442008e-02,\n",
       "       4.63842640e-01, 5.38777566e-01, 8.14933929e-01, 7.72901547e-02,\n",
       "       7.35472098e-01, 6.38339943e-01, 5.94900642e-01, 7.02987464e-01,\n",
       "       5.13170195e-01, 3.06768373e-01, 1.50783860e-01, 4.82934842e-01,\n",
       "       4.56525213e-01, 8.78886388e-01, 6.13492720e-01, 4.22951033e-01,\n",
       "       6.60818356e-01, 9.18768241e-01, 4.65815725e-01, 8.86367677e-01,\n",
       "       3.53335223e-01, 7.15529989e-01, 3.98998419e-01, 3.31393834e-02,\n",
       "       6.82299052e-01, 6.22809675e-02, 1.61777779e-01, 6.80896129e-01,\n",
       "       8.85516966e-01, 6.67908729e-01, 6.45989918e-01, 2.87407401e-01,\n",
       "       1.86044198e-01, 5.76632024e-01, 8.48308282e-01, 3.18376594e-01,\n",
       "       9.39727924e-01, 4.26983095e-03, 2.13197532e-01, 9.60189005e-01,\n",
       "       8.34235897e-01, 4.02373511e-01, 5.51698570e-01, 7.55897503e-01,\n",
       "       4.64891886e-01, 6.15277863e-01, 6.76255761e-01, 9.51154867e-01,\n",
       "       8.89752882e-01, 6.23981630e-01, 5.73822209e-01, 4.35503110e-01,\n",
       "       4.32294127e-02, 7.84199604e-01, 3.68555504e-01, 6.44845803e-01,\n",
       "       9.10704013e-01, 1.70105154e-01, 7.75192944e-01, 7.84419388e-01,\n",
       "       7.27282781e-01, 3.18257095e-01, 8.68906479e-01, 2.33433529e-01,\n",
       "       7.11713467e-01, 3.14239330e-01, 8.35351156e-01, 9.84359709e-01,\n",
       "       1.67363373e-01, 5.07403471e-01, 7.14742778e-01, 6.67205483e-01,\n",
       "       7.52844224e-01, 6.04809489e-01, 6.03899401e-01, 9.53695475e-01,\n",
       "       1.09229759e-01, 9.06183590e-01, 1.16160531e-02, 5.39488371e-01,\n",
       "       6.01130328e-01, 6.29262120e-02, 4.81435171e-01, 8.01377580e-01,\n",
       "       1.24502398e-01, 3.83373656e-01, 8.16116910e-01, 2.47343817e-01])"
      ]
     },
     "execution_count": 40,
     "metadata": {},
     "output_type": "execute_result"
    }
   ],
   "source": [
    "import Opt726 as Opt726\n",
    "N = 100\n",
    "x_p = np.random.rand(2*N)\n",
    "while(np.all(np.linalg.eigvals(geodesicDense.geodesic(x_p,4)) > 0)):\n",
    "    x_p = np.random.rand(2*N)\n",
    "x_p"
   ]
  },
  {
   "cell_type": "code",
   "execution_count": null,
   "metadata": {},
   "outputs": [],
   "source": [
    "import globals\n",
    "import Geodesic as Geodesic\n",
    "step = 0.01\n",
    "geodata = globals.geodata\n",
    "Geodesic2 = Geodesic.geodesic(geodata['alpha'], geodata['beta']\\\n",
    "                              , (geodata['a'],geodata['b'])\\\n",
    "                              , (geodata['c'],geodata['d']), N)\n",
    "x = np.arange(-2,2,step)\n",
    "y = np.arange(-2,2,step)\n",
    "X,Y = np.meshgrid(x,y)\n",
    "Z = np.zeros(X.shape)\n",
    "for i in range(X.shape[0]):\n",
    "    for j in range(X.shape[1]):\n",
    "        Z[i,j] = Geodesic2.rho(X[i,j],Y[i,j])"
   ]
  },
  {
   "cell_type": "code",
   "execution_count": null,
   "metadata": {
    "scrolled": false
   },
   "outputs": [],
   "source": [
    "x = {'p': x_p}\n",
    "sdparams = {'maxit': 2000,'toler': 1.0e-4}\n",
    "x_n, Itera_s, Status = Opt726.SteepDescent(geodesic.geodesic,x,sdparams)\n",
    "x_n, Itera_s, Status"
   ]
  },
  {
   "cell_type": "code",
   "execution_count": null,
   "metadata": {},
   "outputs": [],
   "source": [
    "x_nn = x_n['p'].reshape((Geodesic2.N, 2))\n",
    "x_nn = np.insert(x_nn, 0, values=(geodata['a'],geodata['b']), axis=0)\n",
    "x_nn = np.insert(x_nn, x_nn.shape[0], values=(geodata['c'],geodata['d']), axis=0)\n",
    "\n",
    "import matplotlib.pyplot as plt\n",
    "fig,ax = plt.subplots(1,1,figsize=(8,8))\n",
    "ax.contourf(X,Y,Z)\n",
    "ax.plot(x_nn[:,0],x_nn[:,1], color = 'r', marker='o', linestyle='solid', linewidth=2, markersize=12)\n",
    "ax.set_xlabel('$x$', fontsize=20)\n",
    "ax.set_ylabel('$y$', fontsize=20)\n",
    "ax.set_xlim([-2,2])\n",
    "ax.set_ylim([-2,2])"
   ]
  },
  {
   "cell_type": "code",
   "execution_count": null,
   "metadata": {
    "scrolled": false
   },
   "outputs": [],
   "source": [
    "x = {'p': x_p}\n",
    "nparams = {'maxit': 2000,'toler': 1.0e-4, 'method': 'direct'}\n",
    "x_n, Itera_s, Status = Opt726.Newton(geodesic.geodesic,x,nparams)\n",
    "x_n, Itera_s, Status"
   ]
  },
  {
   "cell_type": "code",
   "execution_count": null,
   "metadata": {},
   "outputs": [],
   "source": [
    "x_nn = x_n['p'].reshape((Geodesic2.N, 2))\n",
    "x_nn = np.insert(x_nn, 0, values=(geodata['a'],geodata['b']), axis=0)\n",
    "x_nn = np.insert(x_nn, x_nn.shape[0], values=(geodata['c'],geodata['d']), axis=0)\n",
    "\n",
    "import matplotlib.pyplot as plt\n",
    "fig,ax = plt.subplots(1,1,figsize=(8,8))\n",
    "ax.contourf(X,Y,Z)\n",
    "ax.plot(x_nn[:,0],x_nn[:,1], color = 'r', marker='o', linestyle='solid', linewidth=2, markersize=12)\n",
    "ax.set_xlabel('$x$', fontsize=20)\n",
    "ax.set_ylabel('$y$', fontsize=20)\n",
    "ax.set_xlim([-2,2])\n",
    "ax.set_ylim([-2,2])"
   ]
  },
  {
   "cell_type": "code",
   "execution_count": null,
   "metadata": {},
   "outputs": [],
   "source": [
    "x = {'p': x_p}\n",
    "nparams = {'maxit': 2000,'toler': 1.0e-4, 'method': 'pert'}\n",
    "x_n, Itera_s, Status = Opt726.Newton(geodesic.geodesic,x,nparams)\n",
    "x_n, Itera_s, Status"
   ]
  },
  {
   "cell_type": "code",
   "execution_count": null,
   "metadata": {},
   "outputs": [],
   "source": [
    "x_nn = x_n['p'].reshape((Geodesic2.N, 2))\n",
    "x_nn = np.insert(x_nn, 0, values=(geodata['a'],geodata['b']), axis=0)\n",
    "x_nn = np.insert(x_nn, x_nn.shape[0], values=(geodata['c'],geodata['d']), axis=0)\n",
    "\n",
    "import matplotlib.pyplot as plt\n",
    "fig,ax = plt.subplots(1,1,figsize=(8,8))\n",
    "ax.contourf(X,Y,Z)\n",
    "ax.plot(x_nn[:,0],x_nn[:,1], color = 'r', marker='o', linestyle='solid', linewidth=2, markersize=12)\n",
    "ax.set_xlabel('$x$', fontsize=20)\n",
    "ax.set_ylabel('$y$', fontsize=20)\n",
    "ax.set_xlim([-2,2])\n",
    "ax.set_ylim([-2,2])"
   ]
  },
  {
   "cell_type": "code",
   "execution_count": null,
   "metadata": {},
   "outputs": [],
   "source": [
    "a = np.array([1,2,3])\n",
    "b = np.array([1,2,3])\n",
    "np.outer(a,b)"
   ]
  },
  {
   "cell_type": "code",
   "execution_count": null,
   "metadata": {},
   "outputs": [],
   "source": [
    "x = {'p': x_p}\n",
    "nparams = {'maxit': 2000,'toler': 1.0e-4, 'method': 'direct'}\n",
    "x_n, Itera_s, Status = Opt726.BFGS(geodesic.geodesic,x,nparams)\n",
    "x_n, Itera_s, Status"
   ]
  },
  {
   "cell_type": "code",
   "execution_count": null,
   "metadata": {},
   "outputs": [],
   "source": [
    "x_nn = x_n['p'].reshape((Geodesic2.N, 2))\n",
    "x_nn = np.insert(x_nn, 0, values=(geodata['a'],geodata['b']), axis=0)\n",
    "x_nn = np.insert(x_nn, x_nn.shape[0], values=(geodata['c'],geodata['d']), axis=0)\n",
    "\n",
    "import matplotlib.pyplot as plt\n",
    "fig,ax = plt.subplots(1,1,figsize=(8,8))\n",
    "ax.contourf(X,Y,Z)\n",
    "ax.plot(x_nn[:,0],x_nn[:,1], color = 'r', marker='o', linestyle='solid', linewidth=2, markersize=12)\n",
    "ax.set_xlabel('$x$', fontsize=20)\n",
    "ax.set_ylabel('$y$', fontsize=20)\n",
    "ax.set_xlim([-2,2])\n",
    "ax.set_ylim([-2,2])"
   ]
  },
  {
   "cell_type": "code",
   "execution_count": null,
   "metadata": {},
   "outputs": [],
   "source": [
    "import Opt726 as Opt726\n",
    "N = 100\n",
    "dirc = []\n",
    "pert = []\n",
    "for i in range(20):\n",
    "    x_p = np.random.rand(2*N)\n",
    "    while(np.all(np.linalg.eigvals(geodesicDense.geodesic(x_p,4)) > 0)):\n",
    "        x_p = np.random.rand(2*N)\n",
    "    x = {'p': x_p}\n",
    "    nparams = {'maxit': 2000,'toler': 1.0e-4, 'method': 'direct'}\n",
    "    x_n, Itera_s, Status = Opt726.Newton(geodesic.geodesic,x,nparams)\n",
    "    dirc.append(Itera_s)\n",
    "    nparams = {'maxit': 2000,'toler': 1.0e-4, 'method': 'pert'}\n",
    "    x_n, Itera_s, Status = Opt726.Newton(geodesic.geodesic,x,nparams)\n",
    "    pert.append(Itera_s)"
   ]
  },
  {
   "cell_type": "code",
   "execution_count": null,
   "metadata": {},
   "outputs": [],
   "source": [
    "en = []\n",
    "for i in range(20):\n",
    "    en.append(i+1)"
   ]
  },
  {
   "cell_type": "code",
   "execution_count": null,
   "metadata": {},
   "outputs": [],
   "source": [
    "fig,ax = plt.subplots(1,1,figsize=(8,8))\n",
    "ax.plot(en,dirc, color = 'r', marker='o', linestyle='solid', linewidth=2, markersize=12)\n",
    "ax.plot(en,pert, color = 'b', marker='s', linestyle='solid', linewidth=2, markersize=12)\n",
    "ax.set_xlabel('$n$', fontsize=20)\n",
    "ax.set_ylabel('$iterations$', fontsize=20)\n",
    "ax.set_xlim([1,20])\n",
    "ax.legend(['direct','pert'])"
   ]
  },
  {
   "cell_type": "code",
   "execution_count": null,
   "metadata": {},
   "outputs": [],
   "source": []
  },
  {
   "cell_type": "code",
   "execution_count": null,
   "metadata": {},
   "outputs": [],
   "source": []
  }
 ],
 "metadata": {
  "kernelspec": {
   "display_name": "Python 3 (ipykernel)",
   "language": "python",
   "name": "python3"
  },
  "language_info": {
   "codemirror_mode": {
    "name": "ipython",
    "version": 3
   },
   "file_extension": ".py",
   "mimetype": "text/x-python",
   "name": "python",
   "nbconvert_exporter": "python",
   "pygments_lexer": "ipython3",
   "version": "3.8.11"
  },
  "varInspector": {
   "cols": {
    "lenName": 16,
    "lenType": 16,
    "lenVar": 40
   },
   "kernels_config": {
    "python": {
     "delete_cmd_postfix": "",
     "delete_cmd_prefix": "del ",
     "library": "var_list.py",
     "varRefreshCmd": "print(var_dic_list())"
    },
    "r": {
     "delete_cmd_postfix": ") ",
     "delete_cmd_prefix": "rm(",
     "library": "var_list.r",
     "varRefreshCmd": "cat(var_dic_list()) "
    }
   },
   "types_to_exclude": [
    "module",
    "function",
    "builtin_function_or_method",
    "instance",
    "_Feature"
   ],
   "window_display": false
  }
 },
 "nbformat": 4,
 "nbformat_minor": 4
}
