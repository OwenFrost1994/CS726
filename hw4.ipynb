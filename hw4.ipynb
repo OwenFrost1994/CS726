{
 "cells": [
  {
   "cell_type": "code",
   "execution_count": 1,
   "metadata": {},
   "outputs": [],
   "source": [
    "from numpy import array\n",
    "import math"
   ]
  },
  {
   "cell_type": "code",
   "execution_count": 2,
   "metadata": {},
   "outputs": [],
   "source": [
    "def obja(x,mode):\n",
    "    global numf, numg, numH\n",
    "    z = ()\n",
    "    if mode == 1:\n",
    "        numf += 1\n",
    "        z += (x[0]**2 + 5*(x[1]**2) + x[0] - 5*x[1],)\n",
    "    if mode == 2:\n",
    "        numg += 1\n",
    "        z = z + (array([2*x[0] + 1, 10*x[1] - 5]),)\n",
    "    if mode == 3:\n",
    "        numH += 1\n",
    "        z = z + (array([[2, 0], [0, 10]]),)\n",
    "    return z"
   ]
  },
  {
   "cell_type": "code",
   "execution_count": 3,
   "metadata": {},
   "outputs": [
    {
     "name": "stdout",
     "output_type": "stream",
     "text": [
      "(array([[ 2,  0],\n",
      "       [ 0, 10]]),) 0 0 1\n"
     ]
    }
   ],
   "source": [
    "numf = 0; numg = 0; numH = 0\n",
    "\n",
    "f = obja(array([1, 2]),3)\n",
    "\n",
    "print(f, numf, numg, numH)"
   ]
  },
  {
   "cell_type": "code",
   "execution_count": 4,
   "metadata": {},
   "outputs": [
    {
     "name": "stdout",
     "output_type": "stream",
     "text": [
      "(12,) 1 0 1\n"
     ]
    }
   ],
   "source": [
    "f = obja(array([1, 2]),1)\n",
    "\n",
    "print(f, numf, numg, numH)"
   ]
  },
  {
   "cell_type": "code",
   "execution_count": 5,
   "metadata": {},
   "outputs": [],
   "source": [
    "def obja(x,mode):\n",
    "    global numf, numg, numH\n",
    "    z = ()\n",
    "    if mode == 1:\n",
    "        numf += 1\n",
    "        z += (math.cos(x[0]) + math.exp(-x[0]),)\n",
    "    if mode == 2:\n",
    "        numg += 1\n",
    "        z = z + (array([-math.sin(x[0]) - math.exp(-x[0])]),)\n",
    "    if mode == 3:\n",
    "        numH += 1\n",
    "        z = z + (array([-math.cos(x[0]) + math.exp(-x[0])]),)\n",
    "    return z"
   ]
  },
  {
   "cell_type": "code",
   "execution_count": 6,
   "metadata": {},
   "outputs": [
    {
     "name": "stdout",
     "output_type": "stream",
     "text": [
      "(array([0.55148212]),) 0 0 1\n"
     ]
    }
   ],
   "source": [
    "numf = 0; numg = 0; numH = 0\n",
    "\n",
    "f = obja(array([2]),3)\n",
    "\n",
    "print(f, numf, numg, numH)"
   ]
  },
  {
   "cell_type": "code",
   "execution_count": 7,
   "metadata": {},
   "outputs": [
    {
     "name": "stdout",
     "output_type": "stream",
     "text": [
      "(0.20787957635076199,) 1 0 1\n",
      "(array([-1.20787958]),) 1 1 1\n",
      "(array([0.20787958]),) 1 1 2\n"
     ]
    }
   ],
   "source": [
    "f1 = obja(array([math.pi/2]),1)\n",
    "print(f1, numf, numg, numH)\n",
    "f2 = obja(array([math.pi/2]),2)\n",
    "print(f2, numf, numg, numH)\n",
    "f3 = obja(array([math.pi/2]),3)\n",
    "print(f3, numf, numg, numH)"
   ]
  },
  {
   "cell_type": "code",
   "execution_count": 8,
   "metadata": {},
   "outputs": [
    {
     "data": {
      "text/plain": [
       "-0.2510934946145341"
      ]
     },
     "execution_count": 8,
     "metadata": {},
     "output_type": "execute_result"
    }
   ],
   "source": [
    "f2[0][0]*f3[0][0]"
   ]
  },
  {
   "cell_type": "code",
   "execution_count": 9,
   "metadata": {},
   "outputs": [
    {
     "name": "stdout",
     "output_type": "stream",
     "text": [
      "(0.008983291021129245,) 2 1 2\n",
      "(array([0.99101671]),) 2 2 2\n",
      "(array([0.00898329]),) 2 2 3\n"
     ]
    }
   ],
   "source": [
    "f = obja(array([3*math.pi/2]),1)\n",
    "print(f, numf, numg, numH)\n",
    "f = obja(array([3*math.pi/2]),2)\n",
    "print(f, numf, numg, numH)\n",
    "f = obja(array([3*math.pi/2]),3)\n",
    "print(f, numf, numg, numH)"
   ]
  },
  {
   "cell_type": "code",
   "execution_count": 10,
   "metadata": {},
   "outputs": [],
   "source": [
    "from bisectS import bisect"
   ]
  },
  {
   "cell_type": "code",
   "execution_count": 11,
   "metadata": {},
   "outputs": [],
   "source": [
    "numf = 0; numg = 0; numH = 0\n",
    "result = bisect(obja, math.pi/2, 3*math.pi/2, 1E-4)"
   ]
  },
  {
   "cell_type": "code",
   "execution_count": 12,
   "metadata": {},
   "outputs": [
    {
     "name": "stdout",
     "output_type": "stream",
     "text": [
      "Interval of stationary point is [3.183010, 3.183106]\n",
      "Number of iterations 15.000000\n",
      "Number of function evaluations used 32.000000\n"
     ]
    }
   ],
   "source": [
    "print('Interval of stationary point is [%f, %f]' % (result[0], result[1]))\n",
    "print('Number of iterations %f' % (result[2]))\n",
    "print('Number of function evaluations used %f' % (numf + numg + numH))"
   ]
  },
  {
   "cell_type": "code",
   "execution_count": null,
   "metadata": {},
   "outputs": [],
   "source": []
  }
 ],
 "metadata": {
  "kernelspec": {
   "display_name": "Python 3 (ipykernel)",
   "language": "python",
   "name": "python3"
  },
  "language_info": {
   "codemirror_mode": {
    "name": "ipython",
    "version": 3
   },
   "file_extension": ".py",
   "mimetype": "text/x-python",
   "name": "python",
   "nbconvert_exporter": "python",
   "pygments_lexer": "ipython3",
   "version": "3.8.11"
  },
  "varInspector": {
   "cols": {
    "lenName": 16,
    "lenType": 16,
    "lenVar": 40
   },
   "kernels_config": {
    "python": {
     "delete_cmd_postfix": "",
     "delete_cmd_prefix": "del ",
     "library": "var_list.py",
     "varRefreshCmd": "print(var_dic_list())"
    },
    "r": {
     "delete_cmd_postfix": ") ",
     "delete_cmd_prefix": "rm(",
     "library": "var_list.r",
     "varRefreshCmd": "cat(var_dic_list()) "
    }
   },
   "types_to_exclude": [
    "module",
    "function",
    "builtin_function_or_method",
    "instance",
    "_Feature"
   ],
   "window_display": false
  }
 },
 "nbformat": 4,
 "nbformat_minor": 4
}
